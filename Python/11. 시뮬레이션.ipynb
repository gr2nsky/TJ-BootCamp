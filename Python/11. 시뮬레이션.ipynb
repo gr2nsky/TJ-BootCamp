{
 "cells": [
  {
   "cell_type": "markdown",
   "id": "1d9ed3fc",
   "metadata": {},
   "source": [
    "# 몬테가를로 시뮬레이션\n",
    ": 자료가 없을 경우 난수를 통해서 가설 증명"
   ]
  },
  {
   "cell_type": "markdown",
   "id": "1a9fa7e6",
   "metadata": {},
   "source": [
    "## 동전의 앞면과 뒷면이 나올 확률이 같다는 것을 증명"
   ]
  },
  {
   "cell_type": "code",
   "execution_count": 1,
   "id": "a184b0a9",
   "metadata": {},
   "outputs": [],
   "source": [
    "# 모듈 불러오기\n",
    "import random"
   ]
  },
  {
   "cell_type": "code",
   "execution_count": 5,
   "id": "0253e1ff",
   "metadata": {},
   "outputs": [
    {
     "data": {
      "text/plain": [
       "6"
      ]
     },
     "execution_count": 5,
     "metadata": {},
     "output_type": "execute_result"
    }
   ],
   "source": [
    "random.randint(1, 10)"
   ]
  },
  {
   "cell_type": "code",
   "execution_count": 8,
   "id": "032397c7",
   "metadata": {},
   "outputs": [
    {
     "name": "stdout",
     "output_type": "stream",
     "text": [
      "앞면\n"
     ]
    }
   ],
   "source": [
    "#난수를 통한 방법\n",
    "x = random.randint(1,2)\n",
    "if x == 1:\n",
    "    result = \"앞면\"\n",
    "else :\n",
    "    result = \"뒷면\"\n",
    "print(result)"
   ]
  },
  {
   "cell_type": "code",
   "execution_count": 21,
   "id": "1dc1afd9",
   "metadata": {},
   "outputs": [],
   "source": [
    "def coinF(n):\n",
    "    coinFront = coinRear = 0\n",
    "    for i in range(1, n+1):\n",
    "        x = random.randint(1,2)\n",
    "        if x == 1:\n",
    "            coinFront += 1\n",
    "        else:\n",
    "            coinRear += 1\n",
    "    print(\"%7d번 시도시 동전의 앞면은 %6d번이고 동전의 뒷면은 %6d번 입니다.\" %(n, coinFront, coinRear))"
   ]
  },
  {
   "cell_type": "code",
   "execution_count": 38,
   "id": "87853fda",
   "metadata": {},
   "outputs": [
    {
     "name": "stdout",
     "output_type": "stream",
     "text": [
      "     10번 시도시 동전의 앞면은      6번이고 동전의 뒷면은      4번 입니다.\n",
      "    100번 시도시 동전의 앞면은     43번이고 동전의 뒷면은     57번 입니다.\n",
      "   1000번 시도시 동전의 앞면은    507번이고 동전의 뒷면은    493번 입니다.\n",
      "  10000번 시도시 동전의 앞면은   4938번이고 동전의 뒷면은   5062번 입니다.\n",
      " 100000번 시도시 동전의 앞면은  50088번이고 동전의 뒷면은  49912번 입니다.\n",
      "1000000번 시도시 동전의 앞면은 500775번이고 동전의 뒷면은 499225번 입니다.\n"
     ]
    }
   ],
   "source": [
    "coinF(10)\n",
    "coinF(100)\n",
    "coinF(1000)\n",
    "coinF(10000)\n",
    "coinF(100000)\n",
    "coinF(1000000)"
   ]
  },
  {
   "cell_type": "code",
   "execution_count": null,
   "id": "445ed5fd",
   "metadata": {},
   "outputs": [],
   "source": [
    "# 가위, 바위, 보 게임이 이길 확률이 같다는 것을 증명"
   ]
  },
  {
   "cell_type": "code",
   "execution_count": 42,
   "id": "a286cbbc",
   "metadata": {},
   "outputs": [],
   "source": [
    "def rock(n):\n",
    "    win = lose = 0\n",
    "    for i in range(1, n+1):\n",
    "        x = random.randint(1,3)\n",
    "        if x == 1:\n",
    "            win += 1\n",
    "        elif x == 2:\n",
    "            lose += 1\n",
    "    none = n - (win + lose)\n",
    "    print(\"%7d번 시도시 이긴 횟수는 %6d번이고 진 횟수는 %6d번, 비긴 횟수는 %6d번 입니다.\" %(n, win, lose, none))\n",
    "        "
   ]
  },
  {
   "cell_type": "code",
   "execution_count": 43,
   "id": "31a04a4f",
   "metadata": {},
   "outputs": [
    {
     "name": "stdout",
     "output_type": "stream",
     "text": [
      "     10번 시도시 이긴 횟수는      4번이고 진 횟수는      4번, 비긴 횟수는      2번 입니다.\n",
      "    100번 시도시 이긴 횟수는     31번이고 진 횟수는     36번, 비긴 횟수는     33번 입니다.\n",
      "   1000번 시도시 이긴 횟수는    323번이고 진 횟수는    311번, 비긴 횟수는    366번 입니다.\n",
      "  10000번 시도시 이긴 횟수는   3311번이고 진 횟수는   3362번, 비긴 횟수는   3327번 입니다.\n",
      " 100000번 시도시 이긴 횟수는  33233번이고 진 횟수는  33553번, 비긴 횟수는  33214번 입니다.\n",
      "1000000번 시도시 이긴 횟수는 332652번이고 진 횟수는 333674번, 비긴 횟수는 333674번 입니다.\n"
     ]
    }
   ],
   "source": [
    "rock(10)\n",
    "rock(100)\n",
    "rock(1000)\n",
    "rock(10000)\n",
    "rock(100000)\n",
    "rock(1000000)"
   ]
  },
  {
   "cell_type": "code",
   "execution_count": null,
   "id": "623c07a9",
   "metadata": {},
   "outputs": [],
   "source": []
  }
 ],
 "metadata": {
  "kernelspec": {
   "display_name": "Python 3",
   "language": "python",
   "name": "python3"
  },
  "language_info": {
   "codemirror_mode": {
    "name": "ipython",
    "version": 3
   },
   "file_extension": ".py",
   "mimetype": "text/x-python",
   "name": "python",
   "nbconvert_exporter": "python",
   "pygments_lexer": "ipython3",
   "version": "3.8.8"
  }
 },
 "nbformat": 4,
 "nbformat_minor": 5
}
