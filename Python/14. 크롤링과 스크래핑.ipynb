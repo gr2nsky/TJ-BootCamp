{
 "cells": [
  {
   "cell_type": "markdown",
   "id": "9b021062",
   "metadata": {},
   "source": [
    "# 데이터 다운로드 하기\n",
    ": 인터넷에서 지정된 파일을 내 PC에 저장하기"
   ]
  },
  {
   "cell_type": "code",
   "execution_count": 1,
   "id": "13fe36fd",
   "metadata": {},
   "outputs": [
    {
     "name": "stdout",
     "output_type": "stream",
     "text": [
      "저장 완료\n"
     ]
    }
   ],
   "source": [
    "#library\n",
    "import urllib.request\n",
    "\n",
    "#URL과 저장경로 지정\n",
    "url = \"http://uta.pw/shodou/img/28/214.png\"\n",
    "savename = \"./Data/test.png\"\n",
    "\n",
    "#다운로드 하기\n",
    "urllib.request.urlretrieve(url, savename)\n",
    "print(\"저장 완료\")"
   ]
  },
  {
   "cell_type": "code",
   "execution_count": 7,
   "id": "d5909d24",
   "metadata": {},
   "outputs": [
    {
     "ename": "TypeError",
     "evalue": "a bytes-like object is required, not 'method'",
     "output_type": "error",
     "traceback": [
      "\u001b[0;31m---------------------------------------------------------------------------\u001b[0m",
      "\u001b[0;31mTypeError\u001b[0m                                 Traceback (most recent call last)",
      "\u001b[0;32m<ipython-input-7-596674c58e65>\u001b[0m in \u001b[0;36m<module>\u001b[0;34m\u001b[0m\n\u001b[1;32m     10\u001b[0m \u001b[0;31m#파일로 저장하기\u001b[0m\u001b[0;34m\u001b[0m\u001b[0;34m\u001b[0m\u001b[0;34m\u001b[0m\u001b[0m\n\u001b[1;32m     11\u001b[0m \u001b[0;32mwith\u001b[0m \u001b[0mopen\u001b[0m\u001b[0;34m(\u001b[0m\u001b[0msavename\u001b[0m\u001b[0;34m,\u001b[0m \u001b[0;34m\"wb\"\u001b[0m\u001b[0;34m)\u001b[0m \u001b[0;32mas\u001b[0m \u001b[0mf\u001b[0m\u001b[0;34m:\u001b[0m\u001b[0;34m\u001b[0m\u001b[0;34m\u001b[0m\u001b[0m\n\u001b[0;32m---> 12\u001b[0;31m     \u001b[0mf\u001b[0m\u001b[0;34m.\u001b[0m\u001b[0mwrite\u001b[0m\u001b[0;34m(\u001b[0m\u001b[0mmem\u001b[0m\u001b[0;34m)\u001b[0m\u001b[0;34m\u001b[0m\u001b[0;34m\u001b[0m\u001b[0m\n\u001b[0m\u001b[1;32m     13\u001b[0m \u001b[0mprint\u001b[0m\u001b[0;34m(\u001b[0m\u001b[0;34m\"저장완료\"\u001b[0m\u001b[0;34m)\u001b[0m\u001b[0;34m\u001b[0m\u001b[0;34m\u001b[0m\u001b[0m\n",
      "\u001b[0;31mTypeError\u001b[0m: a bytes-like object is required, not 'method'"
     ]
    }
   ],
   "source": [
    "#library\n",
    "import urllib.request\n",
    "\n",
    "#URL과 저장경로 지정\n",
    "url = \"http://uta.pw/shodou/img/28/214.png\"\n",
    "savename = \"./Data/test1.png\"\n",
    "\n",
    "#다운로드 하기\n",
    "mem = urllib.request.urlopen(url).read\n",
    "#파일로 저장하기\n",
    "with open(savename, \"wb\") as f:\n",
    "    f.write(mem)\n",
    "print(\"저장완료\")"
   ]
  },
  {
   "cell_type": "markdown",
   "id": "f8842af7",
   "metadata": {},
   "source": [
    "# BeatifulSoup로 Scaraping 하기\n",
    ": 간단하게 HTML과 MXL에서 정보를 추출"
   ]
  },
  {
   "cell_type": "code",
   "execution_count": 10,
   "id": "217e2768",
   "metadata": {},
   "outputs": [
    {
     "name": "stdout",
     "output_type": "stream",
     "text": [
      "Requirement already satisfied: beautifulsoup4 in ./opt/anaconda3/lib/python3.8/site-packages (4.9.3)\n",
      "Requirement already satisfied: soupsieve>1.2 in ./opt/anaconda3/lib/python3.8/site-packages (from beautifulsoup4) (2.2.1)\n"
     ]
    }
   ],
   "source": [
    "!pip install beautifulsoup4"
   ]
  },
  {
   "cell_type": "code",
   "execution_count": 13,
   "id": "07e2f079",
   "metadata": {},
   "outputs": [
    {
     "name": "stdout",
     "output_type": "stream",
     "text": [
      "<h1>Header</h1>\n",
      "<p>Line 1을 서술<p>\n",
      "</p></p>\n"
     ]
    },
    {
     "ename": "NameError",
     "evalue": "name 'pririn' is not defined",
     "output_type": "error",
     "traceback": [
      "\u001b[0;31m---------------------------------------------------------------------------\u001b[0m",
      "\u001b[0;31mNameError\u001b[0m                                 Traceback (most recent call last)",
      "\u001b[0;32m<ipython-input-13-84048917230a>\u001b[0m in \u001b[0;36m<module>\u001b[0;34m\u001b[0m\n\u001b[1;32m     19\u001b[0m \u001b[0mp1\u001b[0m \u001b[0;34m=\u001b[0m \u001b[0msoup\u001b[0m\u001b[0;34m.\u001b[0m\u001b[0mhtml\u001b[0m\u001b[0;34m.\u001b[0m\u001b[0mbody\u001b[0m\u001b[0;34m.\u001b[0m\u001b[0mp\u001b[0m\u001b[0;34m\u001b[0m\u001b[0;34m\u001b[0m\u001b[0m\n\u001b[1;32m     20\u001b[0m \u001b[0mprint\u001b[0m\u001b[0;34m(\u001b[0m\u001b[0mp1\u001b[0m\u001b[0;34m)\u001b[0m\u001b[0;34m\u001b[0m\u001b[0;34m\u001b[0m\u001b[0m\n\u001b[0;32m---> 21\u001b[0;31m \u001b[0mpririn\u001b[0m\u001b[0;34m\u001b[0m\u001b[0;34m\u001b[0m\u001b[0m\n\u001b[0m\u001b[1;32m     22\u001b[0m \u001b[0;34m\u001b[0m\u001b[0m\n\u001b[1;32m     23\u001b[0m \u001b[0;31m#텍스트만 출럭\u001b[0m\u001b[0;34m\u001b[0m\u001b[0;34m\u001b[0m\u001b[0;34m\u001b[0m\u001b[0m\n",
      "\u001b[0;31mNameError\u001b[0m: name 'pririn' is not defined"
     ]
    }
   ],
   "source": [
    "#기본 사용법\n",
    "from bs4 import BeautifulSoup\n",
    "#HTML Sample\n",
    "html = \"\"\"\n",
    "    <html>\n",
    "        <body>\n",
    "            <h1>Header</h1>\n",
    "            <p>Line 1을 서술<p>\n",
    "        </body>\n",
    "    </html>\n",
    "\"\"\"\n",
    "#HTML 분석\n",
    "soup = BeautifulSoup(html, 'html.parser')\n",
    "#print(soup)\n",
    "\n",
    "#원하는 부분 추출하기\n",
    "h1 = soup.html.body.h1\n",
    "print(h1)\n",
    "p1 = soup.html.body.p\n",
    "print(p1)\n",
    "pririn\n",
    "\n",
    "#텍스트만 출럭\n",
    "print(\"h1=\", h1.String)\n",
    "print(\"h1=\", h1.text)\n",
    "print(\"p1=\", p1.String)\n",
    "print(\"p1=\", text)\n"
   ]
  },
  {
   "cell_type": "code",
   "execution_count": 16,
   "id": "e248b858",
   "metadata": {},
   "outputs": [
    {
     "ename": "SyntaxError",
     "evalue": "EOL while scanning string literal (<ipython-input-16-baf4a148f071>, line 16)",
     "output_type": "error",
     "traceback": [
      "\u001b[0;36m  File \u001b[0;32m\"<ipython-input-16-baf4a148f071>\"\u001b[0;36m, line \u001b[0;32m16\u001b[0m\n\u001b[0;31m    title = \"spup.find(Id = 'title')\u001b[0m\n\u001b[0m                                    ^\u001b[0m\n\u001b[0;31mSyntaxError\u001b[0m\u001b[0;31m:\u001b[0m EOL while scanning string literal\n"
     ]
    }
   ],
   "source": [
    "# id로 요소를 추출하기\n",
    "from bs4 import BeautifulSoup\n",
    "html = \"\"\"\n",
    "    <html>\n",
    "        <body>\n",
    "            <h1>Header</h1>\n",
    "            <p>Line 1을 서술<p>\n",
    "        </body>\n",
    "    </html>\n",
    "\"\"\"\n",
    "\n",
    "# HTML 분석\n",
    "soup = BeatifutSoup(html, \"html.parser\")\n",
    "\n",
    "#원하는 부본 충견랍=ㅂㅈ==\n",
    "title = \"spup.find(Id = 'title')\n",
    "body = soup.find(id = body)\n",
    "\n",
    "print(title)\n",
    "print(body)\n",
    "\n",
    "print(title)\n",
    "print(body)\n",
    "\n",
    "#text만 출력\n",
    "#미완 소스참고해서 완성할것"
   ]
  },
  {
   "cell_type": "code",
   "execution_count": 22,
   "id": "2bafbaf5",
   "metadata": {},
   "outputs": [
    {
     "name": "stdout",
     "output_type": "stream",
     "text": [
      "naver >>> https://www.naver.com\n",
      "daum >>> https://www.daum.com\n"
     ]
    }
   ],
   "source": [
    "#여러개의 요소 추출하기\n",
    "from bs4 import BeautifulSoup\n",
    "html = \"\"\"\n",
    "    <html>\n",
    "        <body>\n",
    "            <ul>\n",
    "                <li><a href=\"https://www.naver.com\">naver</a></li>\n",
    "                 <li><a href=\"https://www.daum.com\">daum</a></li>\n",
    "            </ul>\n",
    "        </body>\n",
    "    </html>\n",
    "\"\"\"\n",
    "\n",
    "#HTML 분석\n",
    "soup = BeautifulSoup(html, 'html.parser')\n",
    "#가장 최초에 검색된 항목을 가져온다.\n",
    "soup.find('a')\n",
    "#검색된 모든 항목을 가져온다. list형식\n",
    "links = soup.find_all('a') \n",
    "#링크 목록 출력\n",
    "for link in links:\n",
    "#     print(link.string)\n",
    "#     print(link.attrs['href'])\n",
    "    href = link.attrs['href']\n",
    "    text = link.string\n",
    "    print(text, \">>>\", href)\n"
   ]
  },
  {
   "cell_type": "code",
   "execution_count": 49,
   "id": "18d31e89",
   "metadata": {},
   "outputs": [
    {
     "name": "stdout",
     "output_type": "stream",
     "text": [
      "기상청 육상 중기예보\n",
      "○ (강수) 16일(금) 오후에는 소나기가 내리는 곳이 있겠고, 19일(월) 오후에는 비가 내리겠습니다.<br />○ (기온) 이번 예보기간 아침최저기온은 23~26도, 낮최고기온은 29~34도로 어제(12일, 아침최저기온 20~24도, 낮최고기온 30~33도)와 비슷하거나 조금 높겠습니다.<br />○ (해상) 서해중부해상의 물결은 0.5~2.0m로 일겠습니다.<br />○ (주말전망) 17일(토)~18일(일)은 구름많겠고, 아침 기온은 23~24도, 낮 기온은 29~33도가 되겠습니다<br /><br />* 이번 예보기간 동안 내륙에는 낮최고기온이 33도 내외, 아침최저기온이 25도 내외로 오르는 곳이 많아 매우 무덥겠으니, 건강관리에 각별히 유의하기 바랍니다.<br />* 또한, 북태평양고기압 위치에 따른 강수 변동성이 크겠으니, 앞으로 발표되는 기상정보를 참고하기 바랍니다.\n",
      "-----------------\n",
      "origin :  <class 'bs4.element.Tag'>\n",
      "find str :  <class 'bs4.element.CData'>\n",
      "split :  <class 'list'>\n",
      "○ (강수) 16일(금) 오후에는 소나기가 내리는 곳이 있겠고, 19일(월) 오후에는 비가 내리겠습니다.\n",
      "○ (기온) 이번 예보기간 아침최저기온은 23~26도, 낮최고기온은 29~34도로 어제(12일, 아침최저기온 20~24도, 낮최고기온 30~33도)와 비슷하거나 조금 높겠습니다.\n",
      "○ (해상) 서해중부해상의 물결은 0.5~2.0m로 일겠습니다.\n",
      "○ (주말전망) 17일(토)~18일(일)은 구름많겠고, 아침 기온은 23~24도, 낮 기온은 29~33도가 되겠습니다\n",
      "* 또한, 북태평양고기압 위치에 따른 강수 변동성이 크겠으니, 앞으로 발표되는 기상정보를 참고하기 바랍니다.\n"
     ]
    }
   ],
   "source": [
    "# 기상청 자료 활용하기\n",
    "\n",
    "from bs4 import BeautifulSoup\n",
    "import urllib.request as req\n",
    "\n",
    "url = \"http://www.weather.go.kr/weather/forecast/mid-term-rss3.jsp?stnId=109\"\n",
    "\n",
    "#data 가져오기\n",
    "res = req.urlopen(url)\n",
    "soup = BeautifulSoup(res, \"html.parser\")\n",
    "# print(soup)\n",
    "\n",
    "#원하는 데이터 추출하기\n",
    "title = soup.find('title').string\n",
    "print(title)\n",
    "wf = soup.find('wf').string\n",
    "print(wf)\n",
    "type(wf)\n",
    "\n",
    "print(\"-----------------\")\n",
    "\n",
    "strList = []\n",
    "css = soup.find('wf')\n",
    "print(\"origin : \", type(css))\n",
    "cs = soup.find('wf').string\n",
    "print(\"find str : \", type(cs))\n",
    "strList = cs.split(\"<br />\")\n",
    "print(\"split : \", type(strList))\n",
    "for str in strList:\n",
    "    if str == \"\":\n",
    "        strList.remove(str)\n",
    "        continue\n",
    "    print(str"
   ]
  },
  {
   "cell_type": "code",
   "execution_count": 53,
   "id": "08e985a4",
   "metadata": {},
   "outputs": [
    {
     "name": "stdout",
     "output_type": "stream",
     "text": [
      "○ (강수) 16일(금) 오후에는 소나기가 내리는 곳이 있겠고, 19일(월) 오후에는 비가 내리겠습니다. ○ (기온) 이번 예보기간 아침최저기온은 23~26도, 낮최고기온은 29~34도로 어제(12일, 아침최저기온 20~24도, 낮최고기온 30~33도)와 비슷하거나 조금 높겠습니다. ○ (해상) 서해중부해상의 물결은 0.5~2.0m로 일겠습니다. ○ (주말전망) 17일(토)~18일(일)은 구름많겠고, 아침 기온은 23~24도, 낮 기온은 29~33도가 되겠습니다  * 이번 예보기간 동안 내륙에는 낮최고기온이 33도 내외, 아침최저기온이 25도 내외로 오르는 곳이 많아 매우 무덥겠으니, 건강관리에 각별히 유의하기 바랍니다. * 또한, 북태평양고기압 위치에 따른 강수 변동성이 크겠으니, 앞으로 발표되는 기상정보를 참고하기 바랍니다.\n"
     ]
    }
   ],
   "source": [
    "#데이터 정리하기\n",
    "list_wfs = list(wf)\n",
    "except_char =['<','b','r',\"/\",'>']\n",
    "result = \"\"\n",
    "\n",
    "for lwf in list_wfs:\n",
    "    if lwf not in except_char:\n",
    "        result += lwf\n",
    "print(result)"
   ]
  },
  {
   "cell_type": "markdown",
   "id": "36454c11",
   "metadata": {},
   "source": [
    "# CSS 선택자 사용하기\n",
    "\n",
    "soup.select_one() : css선택자로 요소 하나를 추출 <br>\n",
    "soup.select() : css 선택자로 요소 여러개를 리스트로 추출"
   ]
  },
  {
   "cell_type": "code",
   "execution_count": 56,
   "id": "e366385c",
   "metadata": {},
   "outputs": [
    {
     "name": "stdout",
     "output_type": "stream",
     "text": [
      "위키 북스\n",
      "유니티 게임 이펙트 입문서\n",
      "스위프트로 시작하는 아이폰 앱 개발 교과서\n",
      "모던 웹사이트 디자인의 정석\n"
     ]
    }
   ],
   "source": [
    "from bs4 import BeautifulSoup\n",
    "\n",
    "html = \"\"\"\n",
    "    <html>\n",
    "        <body>\n",
    "            <div id = \"meigen\">\n",
    "                <h1>위키 북스</h1>\n",
    "                <ul class=\"items\">\n",
    "                    <li>유니티 게임 이펙트 입문서</li>\n",
    "                    <li>스위프트로 시작하는 아이폰 앱 개발 교과서</li>\n",
    "                    <li>모던 웹사이트 디자인의 정석</li>\n",
    "                </ul>\n",
    "            </div>\n",
    "        </body>\n",
    "    </html>\n",
    "\"\"\"\n",
    "soup = BeautifulSoup(html, \"html.parser\")\n",
    "\n",
    "#필요한 부분 css로 추출하기\n",
    "# 타이틀 부분 추출\n",
    "# id:#, class:., > : 자손, \" \" : 후손 (밑 모든 것)\n",
    "h1 = soup.select_one(\"div#meigen > h1\").string\n",
    "print(h1)\n",
    "\n",
    "#목록 부분 추출하기\n",
    "li_lists = soup.select(\"div#meigen > ul.items > li\")\n",
    "# print(li_lists)\n",
    "for li in li_lists:\n",
    "    print(li.string)"
   ]
  },
  {
   "cell_type": "code",
   "execution_count": 57,
   "id": "f16726d2",
   "metadata": {},
   "outputs": [],
   "source": [
    "#네이버 금융에서 환율 정보 추출하기\n",
    "# https://finance.naver.com/marketindex/\n",
    "# 크롬 -> 개발자도구 -> 왼쪽위 영역 셀렉터 -> 영역 클릭 -> 우클릭 -> 셀렉터 복사\n",
    "# #exchangeList > li.on > a.head.usd > div > span.value"
   ]
  },
  {
   "cell_type": "code",
   "execution_count": 64,
   "id": "3b32112e",
   "metadata": {},
   "outputs": [
    {
     "name": "stdout",
     "output_type": "stream",
     "text": [
      "usd / krw :  1,143.50\n"
     ]
    }
   ],
   "source": [
    "# 미국 환율 가져오기\n",
    "from bs4 import BeautifulSoup\n",
    "import urllib.request as req\n",
    "\n",
    "#HTML\n",
    "url = \"https://finance.naver.com/marketindex/\"\n",
    "res = req.urlopen(url)\n",
    "\n",
    "#HTML 분석\n",
    "soup = BeautifulSoup(res, \"html.parser\")\n",
    "#print(soup)\n",
    "\n",
    "#데이터 추출하기\n",
    "price = soup.select_one(\"span.value\").string\n",
    "print(\"usd / krw : \", price)"
   ]
  },
  {
   "cell_type": "code",
   "execution_count": 66,
   "id": "d6643c34",
   "metadata": {},
   "outputs": [
    {
     "name": "stdout",
     "output_type": "stream",
     "text": [
      "usd / krw :  1,143.90\n",
      "yen / krw :  1,036.24\n",
      "euro / krw :  1,357.98\n",
      "wian / krw :  176.84\n"
     ]
    }
   ],
   "source": [
    "# 미국, 일본, 유럽연합, 중국의 환율\n",
    "\n",
    "# #exchangeList > li.on > a.head.usd > div > span.value\n",
    "# #exchangeList > li.on > a.head.jpy > div > span.value\n",
    "# #exchangeList > li.on > a.head.eur > div > span.value\n",
    "# #exchangeList > li.on > a.head.cny > div > span.value\n",
    "\n",
    "#HTML\n",
    "url = \"https://finance.naver.com/marketindex/\"\n",
    "res = req.urlopen(url)\n",
    "\n",
    "#HTML 분석\n",
    "soup = BeautifulSoup(res, \"html.parser\")\n",
    "#print(soup)\n",
    "\n",
    "#데이터 추출하기\n",
    "dolar = soup.select_one(\"a.head.usd > div > span.value\").string\n",
    "yen = soup.select_one(\"a.head.jpy > div > span.value\").string\n",
    "euro = soup.select_one(\"a.head.eur > div > span.value\").string\n",
    "wian = soup.select_one(\"a.head.cny > div > span.value\").string\n",
    "print(\"usd / krw : \", dolar)\n",
    "print(\"yen / krw : \", yen)\n",
    "print(\"euro / krw : \", euro)\n",
    "print(\"wian / krw : \", wian)"
   ]
  },
  {
   "cell_type": "code",
   "execution_count": 68,
   "id": "faa1eea2",
   "metadata": {},
   "outputs": [
    {
     "name": "stdout",
     "output_type": "stream",
     "text": [
      "미국 :  1,144.00\n",
      "일본 :  1,036.42\n",
      "유럽연합 :  1,358.16\n",
      "중국 :  176.85\n"
     ]
    }
   ],
   "source": [
    "#HTML\n",
    "url = \"https://finance.naver.com/marketindex/\"\n",
    "res = req.urlopen(url)\n",
    "\n",
    "#HTML 분석\n",
    "soup = BeautifulSoup(res, \"html.parser\")\n",
    "#print(soup)\n",
    "\n",
    "#데이터 추출하기\n",
    "prices = soup.select(\"div.head_info > span.value\")\n",
    "print(\"미국 : \", prices[0].string)\n",
    "print(\"일본 : \", prices[1].string)\n",
    "print(\"유럽연합 : \", prices[2].string)\n",
    "print(\"중국 : \", prices[3].string)"
   ]
  },
  {
   "cell_type": "markdown",
   "id": "81ea2173",
   "metadata": {},
   "source": [
    "# 다음 영화 연간 순위 가져오기"
   ]
  },
  {
   "cell_type": "code",
   "execution_count": 92,
   "id": "d9a5067a",
   "metadata": {},
   "outputs": [
    {
     "name": "stdout",
     "output_type": "stream",
     "text": [
      "하늘과 바람과 별과 시 >>> https://ko.wikisource.org/wiki/%ED%95%98%EB%8A%98%EA%B3%BC_%EB%B0%94%EB%9E%8C%EA%B3%BC_%EB%B3%84%EA%B3%BC_%EC%8B%9C\n",
      "증보판 >>> https://ko.wikisource.org/wiki/%ED%95%98%EB%8A%98%EA%B3%BC_%EB%B0%94%EB%9E%8C%EA%B3%BC_%EB%B3%84%EA%B3%BC_%EC%8B%9C_(1955%EB%85%84)\n",
      "서시 >>> https://ko.wikisource.org/wiki/%ED%95%98%EB%8A%98%EA%B3%BC_%EB%B0%94%EB%9E%8C%EA%B3%BC_%EB%B3%84%EA%B3%BC_%EC%8B%9C/%EC%84%9C%EC%8B%9C\n",
      "자화상 >>> https://ko.wikisource.org/wiki/%ED%95%98%EB%8A%98%EA%B3%BC_%EB%B0%94%EB%9E%8C%EA%B3%BC_%EB%B3%84%EA%B3%BC_%EC%8B%9C/%EC%9E%90%ED%99%94%EC%83%81\n",
      "소년 >>> https://ko.wikisource.org/wiki/%ED%95%98%EB%8A%98%EA%B3%BC_%EB%B0%94%EB%9E%8C%EA%B3%BC_%EB%B3%84%EA%B3%BC_%EC%8B%9C/%EC%86%8C%EB%85%84\n",
      "눈 오는 지도 >>> https://ko.wikisource.org/wiki/%ED%95%98%EB%8A%98%EA%B3%BC_%EB%B0%94%EB%9E%8C%EA%B3%BC_%EB%B3%84%EA%B3%BC_%EC%8B%9C/%EB%88%88_%EC%98%A4%EB%8A%94_%EC%A7%80%EB%8F%84\n",
      "돌아와 보는 밤 >>> https://ko.wikisource.org/wiki/%ED%95%98%EB%8A%98%EA%B3%BC_%EB%B0%94%EB%9E%8C%EA%B3%BC_%EB%B3%84%EA%B3%BC_%EC%8B%9C/%EB%8F%8C%EC%95%84%EC%99%80_%EB%B3%B4%EB%8A%94_%EB%B0%A4\n",
      "병원 >>> https://ko.wikisource.org/wiki/%ED%95%98%EB%8A%98%EA%B3%BC_%EB%B0%94%EB%9E%8C%EA%B3%BC_%EB%B3%84%EA%B3%BC_%EC%8B%9C/%EB%B3%91%EC%9B%90\n",
      "새로운 길 >>> https://ko.wikisource.org/wiki/%ED%95%98%EB%8A%98%EA%B3%BC_%EB%B0%94%EB%9E%8C%EA%B3%BC_%EB%B3%84%EA%B3%BC_%EC%8B%9C/%EC%83%88%EB%A1%9C%EC%9A%B4_%EA%B8%B8\n",
      "간판 없는 거리 >>> https://ko.wikisource.org/wiki/%ED%95%98%EB%8A%98%EA%B3%BC_%EB%B0%94%EB%9E%8C%EA%B3%BC_%EB%B3%84%EA%B3%BC_%EC%8B%9C/%EA%B0%84%ED%8C%90_%EC%97%86%EB%8A%94_%EA%B1%B0%EB%A6%AC\n",
      "태초의 아침 >>> https://ko.wikisource.org/wiki/%ED%95%98%EB%8A%98%EA%B3%BC_%EB%B0%94%EB%9E%8C%EA%B3%BC_%EB%B3%84%EA%B3%BC_%EC%8B%9C/%ED%83%9C%EC%B4%88%EC%9D%98_%EC%95%84%EC%B9%A8\n",
      "또 태초의 아침 >>> https://ko.wikisource.org/wiki/%ED%95%98%EB%8A%98%EA%B3%BC_%EB%B0%94%EB%9E%8C%EA%B3%BC_%EB%B3%84%EA%B3%BC_%EC%8B%9C/%EB%98%90_%ED%83%9C%EC%B4%88%EC%9D%98_%EC%95%84%EC%B9%A8\n",
      "새벽이 올 때까지 >>> https://ko.wikisource.org/wiki/%ED%95%98%EB%8A%98%EA%B3%BC_%EB%B0%94%EB%9E%8C%EA%B3%BC_%EB%B3%84%EA%B3%BC_%EC%8B%9C/%EC%83%88%EB%B2%BD%EC%9D%B4_%EC%98%AC_%EB%95%8C%EA%B9%8C%EC%A7%80\n",
      "무서운 시간 >>> https://ko.wikisource.org/wiki/%ED%95%98%EB%8A%98%EA%B3%BC_%EB%B0%94%EB%9E%8C%EA%B3%BC_%EB%B3%84%EA%B3%BC_%EC%8B%9C/%EB%AC%B4%EC%84%9C%EC%9A%B4_%EC%8B%9C%EA%B0%84\n",
      "십자가 >>> https://ko.wikisource.org/wiki/%ED%95%98%EB%8A%98%EA%B3%BC_%EB%B0%94%EB%9E%8C%EA%B3%BC_%EB%B3%84%EA%B3%BC_%EC%8B%9C/%EC%8B%AD%EC%9E%90%EA%B0%80\n",
      "바람이 불어 >>> https://ko.wikisource.org/wiki/%ED%95%98%EB%8A%98%EA%B3%BC_%EB%B0%94%EB%9E%8C%EA%B3%BC_%EB%B3%84%EA%B3%BC_%EC%8B%9C/%EB%B0%94%EB%9E%8C%EC%9D%B4_%EB%B6%88%EC%96%B4\n",
      "슬픈 족속 >>> https://ko.wikisource.org/wiki/%ED%95%98%EB%8A%98%EA%B3%BC_%EB%B0%94%EB%9E%8C%EA%B3%BC_%EB%B3%84%EA%B3%BC_%EC%8B%9C/%EC%8A%AC%ED%94%88_%EC%A1%B1%EC%86%8D\n",
      "눈감고 간다 >>> https://ko.wikisource.org/wiki/%ED%95%98%EB%8A%98%EA%B3%BC_%EB%B0%94%EB%9E%8C%EA%B3%BC_%EB%B3%84%EA%B3%BC_%EC%8B%9C/%EB%88%88%EA%B0%90%EA%B3%A0_%EA%B0%84%EB%8B%A4\n",
      "또 다른 고향 >>> https://ko.wikisource.org/wiki/%ED%95%98%EB%8A%98%EA%B3%BC_%EB%B0%94%EB%9E%8C%EA%B3%BC_%EB%B3%84%EA%B3%BC_%EC%8B%9C/%EB%98%90_%EB%8B%A4%EB%A5%B8_%EA%B3%A0%ED%96%A5\n",
      "길 >>> https://ko.wikisource.org/wiki/%ED%95%98%EB%8A%98%EA%B3%BC_%EB%B0%94%EB%9E%8C%EA%B3%BC_%EB%B3%84%EA%B3%BC_%EC%8B%9C/%EA%B8%B8\n",
      "별 헤는 밤 >>> https://ko.wikisource.org/wiki/%ED%95%98%EB%8A%98%EA%B3%BC_%EB%B0%94%EB%9E%8C%EA%B3%BC_%EB%B3%84%EA%B3%BC_%EC%8B%9C/%EB%B3%84_%ED%97%A4%EB%8A%94_%EB%B0%A4\n",
      "흰 그림자 >>> https://ko.wikisource.org/wiki/%ED%9D%B0_%EA%B7%B8%EB%A6%BC%EC%9E%90\n",
      "사랑스런 추억 >>> https://ko.wikisource.org/wiki/%EC%82%AC%EB%9E%91%EC%8A%A4%EB%9F%B0_%EC%B6%94%EC%96%B5\n",
      "흐르는 거리 >>> https://ko.wikisource.org/wiki/%ED%9D%90%EB%A5%B4%EB%8A%94_%EA%B1%B0%EB%A6%AC\n",
      "쉽게 씌어진 시 >>> https://ko.wikisource.org/wiki/%EC%89%BD%EA%B2%8C_%EC%94%8C%EC%96%B4%EC%A7%84_%EC%8B%9C\n",
      "봄 >>> https://ko.wikisource.org/wiki/%EB%B4%84_(%EC%9C%A4%EB%8F%99%EC%A3%BC)\n",
      "참회록 >>> https://ko.wikisource.org/wiki/%EC%B0%B8%ED%9A%8C%EB%A1%9D\n",
      "간(肝) >>> https://ko.wikisource.org/wiki/%EA%B0%84\n",
      "위로 >>> https://ko.wikisource.org/wiki/%EC%9C%84%EB%A1%9C\n",
      "팔복 >>> https://ko.wikisource.org/wiki/%ED%8C%94%EB%B3%B5\n",
      "못자는밤 >>> https://ko.wikisource.org/wiki/%EB%AA%BB%EC%9E%90%EB%8A%94%EB%B0%A4\n",
      "달같이 >>> https://ko.wikisource.org/wiki/%EB%8B%AC%EA%B0%99%EC%9D%B4\n",
      "고추밭 >>> https://ko.wikisource.org/wiki/%EA%B3%A0%EC%B6%94%EB%B0%AD\n",
      "아우의 인상화 >>> https://ko.wikisource.org/wiki/%EC%95%84%EC%9A%B0%EC%9D%98_%EC%9D%B8%EC%83%81%ED%99%94\n",
      "사랑의 전당 >>> https://ko.wikisource.org/wiki/%EC%82%AC%EB%9E%91%EC%9D%98_%EC%A0%84%EB%8B%B9\n",
      "이적 >>> https://ko.wikisource.org/wiki/%EC%9D%B4%EC%A0%81_(%EC%9C%A4%EB%8F%99%EC%A3%BC)\n",
      "비오는 밤 >>> https://ko.wikisource.org/wiki/%EB%B9%84%EC%98%A4%EB%8A%94_%EB%B0%A4\n",
      "산골물 >>> https://ko.wikisource.org/wiki/%EC%82%B0%EA%B3%A8%EB%AC%BC\n",
      "유언 >>> https://ko.wikisource.org/wiki/%EC%9C%A0%EC%96%B8_(%EC%9C%A4%EB%8F%99%EC%A3%BC)\n",
      "창 >>> https://ko.wikisource.org/wiki/%EC%B0%BD_(%EC%9C%A4%EB%8F%99%EC%A3%BC)\n",
      "바다 >>> https://ko.wikisource.org/wiki/%EB%B0%94%EB%8B%A4_(%EC%9C%A4%EB%8F%99%EC%A3%BC)\n",
      "비로봉 >>> https://ko.wikisource.org/wiki/%EB%B9%84%EB%A1%9C%EB%B4%89_(%EC%9C%A4%EB%8F%99%EC%A3%BC)\n",
      "산협의 오후 >>> https://ko.wikisource.org/wiki/%EC%82%B0%ED%98%91%EC%9D%98_%EC%98%A4%ED%9B%84\n",
      "명상 >>> https://ko.wikisource.org/wiki/%EB%AA%85%EC%83%81_(%EC%9C%A4%EB%8F%99%EC%A3%BC)\n",
      "소낙비 >>> https://ko.wikisource.org/wiki/%EC%86%8C%EB%82%99%EB%B9%84_(%EC%9C%A4%EB%8F%99%EC%A3%BC)\n",
      "한난계 >>> https://ko.wikisource.org/wiki/%ED%95%9C%EB%82%9C%EA%B3%84\n",
      "풍경 >>> https://ko.wikisource.org/wiki/%ED%92%8D%EA%B2%BD\n",
      "달밤 >>> https://ko.wikisource.org/wiki/%EB%8B%AC%EB%B0%A4_(%EC%9C%A4%EB%8F%99%EC%A3%BC)\n",
      "장 >>> https://ko.wikisource.org/wiki/%EC%9E%A5_(%EC%9C%A4%EB%8F%99%EC%A3%BC)\n",
      "밤 >>> https://ko.wikisource.org/wiki/%EB%B0%A4_(%EC%9C%A4%EB%8F%99%EC%A3%BC)\n",
      "황혼이 바다가 되어 >>> https://ko.wikisource.org/wiki/%ED%99%A9%ED%98%BC%EC%9D%B4_%EB%B0%94%EB%8B%A4%EA%B0%80_%EB%90%98%EC%96%B4\n",
      "아침 >>> https://ko.wikisource.org/wiki/%EC%95%84%EC%B9%A8_(%EC%9C%A4%EB%8F%99%EC%A3%BC)\n",
      "빨래 >>> https://ko.wikisource.org/wiki/%EB%B9%A8%EB%9E%98\n",
      "꿈은 깨어지고 >>> https://ko.wikisource.org/wiki/%EA%BF%88%EC%9D%80_%EA%B9%A8%EC%96%B4%EC%A7%80%EA%B3%A0\n",
      "산림 >>> https://ko.wikisource.org/wiki/%EC%82%B0%EB%A6%BC_(%EC%9C%A4%EB%8F%99%EC%A3%BC)\n",
      "이런날 >>> https://ko.wikisource.org/wiki/%EC%9D%B4%EB%9F%B0%EB%82%A0\n",
      "산상 >>> https://ko.wikisource.org/wiki/%EC%82%B0%EC%83%81\n",
      "양지쪽 >>> https://ko.wikisource.org/wiki/%EC%96%91%EC%A7%80%EC%AA%BD\n",
      "닭 >>> https://ko.wikisource.org/wiki/%EB%8B%AD_(%EC%9C%A4%EB%8F%99%EC%A3%BC)\n",
      "가슴 1 >>> https://ko.wikisource.org/wiki/%EA%B0%80%EC%8A%B4_1\n",
      "가슴 2 >>> https://ko.wikisource.org/wiki/%EA%B0%80%EC%8A%B4_2\n",
      "비둘기 >>> https://ko.wikisource.org/wiki/%EB%B9%84%EB%91%98%EA%B8%B0_(%EC%9C%A4%EB%8F%99%EC%A3%BC)\n",
      "황혼 >>> https://ko.wikisource.org/wiki/%ED%99%A9%ED%98%BC_(%EC%9C%A4%EB%8F%99%EC%A3%BC)\n",
      "남쪽 하늘 >>> https://ko.wikisource.org/wiki/%EB%82%A8%EC%AA%BD_%ED%95%98%EB%8A%98\n",
      "창공 >>> https://ko.wikisource.org/wiki/%EC%B0%BD%EA%B3%B5\n",
      "거리에서 >>> https://ko.wikisource.org/wiki/%EA%B1%B0%EB%A6%AC%EC%97%90%EC%84%9C\n",
      "삶과 죽음 >>> https://ko.wikisource.org/wiki/%EC%82%B6%EA%B3%BC_%EC%A3%BD%EC%9D%8C\n",
      "초한대 >>> https://ko.wikisource.org/wiki/%EC%B4%88%ED%95%9C%EB%8C%80\n",
      "산울림 >>> https://ko.wikisource.org/wiki/%EC%82%B0%EC%9A%B8%EB%A6%BC\n",
      "해바라기 얼굴 >>> https://ko.wikisource.org/wiki/%ED%95%B4%EB%B0%94%EB%9D%BC%EA%B8%B0_%EC%96%BC%EA%B5%B4\n",
      "귀뚜라미와 나와 >>> https://ko.wikisource.org/wiki/%EA%B7%80%EB%9A%9C%EB%9D%BC%EB%AF%B8%EC%99%80_%EB%82%98%EC%99%80\n",
      "애기의 새벽 >>> https://ko.wikisource.org/wiki/%EC%95%A0%EA%B8%B0%EC%9D%98_%EC%83%88%EB%B2%BD\n",
      "햇빛·바람 >>> https://ko.wikisource.org/wiki/%ED%96%87%EB%B9%9B%C2%B7%EB%B0%94%EB%9E%8C\n",
      "반디불 >>> https://ko.wikisource.org/wiki/%EB%B0%98%EB%94%94%EB%B6%88\n",
      "둘 다 >>> https://ko.wikisource.org/wiki/%EB%91%98_%EB%8B%A4\n",
      "거짓부리 >>> https://ko.wikisource.org/wiki/%EA%B1%B0%EC%A7%93%EB%B6%80%EB%A6%AC\n",
      "눈 >>> https://ko.wikisource.org/wiki/%EB%88%88_(%EC%9C%A4%EB%8F%99%EC%A3%BC)\n",
      "참새 >>> https://ko.wikisource.org/wiki/%EC%B0%B8%EC%83%88_(%EC%9C%A4%EB%8F%99%EC%A3%BC)\n",
      "버선본 >>> https://ko.wikisource.org/wiki/%EB%B2%84%EC%84%A0%EB%B3%B8\n",
      "편지 >>> https://ko.wikisource.org/wiki/%ED%8E%B8%EC%A7%80_(%EC%9C%A4%EB%8F%99%EC%A3%BC)\n",
      "봄 >>> https://ko.wikisource.org/wiki/%EB%B4%84_2_(%EC%9C%A4%EB%8F%99%EC%A3%BC)\n",
      "무얼 먹구 사나 >>> https://ko.wikisource.org/wiki/%EB%AC%B4%EC%96%BC_%EB%A8%B9%EA%B5%AC_%EC%82%AC%EB%82%98\n",
      "굴뚝 >>> https://ko.wikisource.org/wiki/%EA%B5%B4%EB%9A%9D_(%EC%9C%A4%EB%8F%99%EC%A3%BC)\n",
      "햇비 >>> https://ko.wikisource.org/wiki/%ED%96%87%EB%B9%84\n",
      "빗자루 >>> https://ko.wikisource.org/wiki/%EB%B9%97%EC%9E%90%EB%A3%A8\n",
      "기왓장 내외 >>> https://ko.wikisource.org/wiki/%EA%B8%B0%EC%99%93%EC%9E%A5_%EB%82%B4%EC%99%B8\n",
      "오줌싸개 지도 >>> https://ko.wikisource.org/wiki/%EC%98%A4%EC%A4%8C%EC%8B%B8%EA%B0%9C_%EC%A7%80%EB%8F%84\n",
      "병아리 >>> https://ko.wikisource.org/wiki/%EB%B3%91%EC%95%84%EB%A6%AC\n",
      "조개껍질 >>> https://ko.wikisource.org/wiki/%EC%A1%B0%EA%B0%9C%EA%BB%8D%EC%A7%88\n",
      "겨울 >>> https://ko.wikisource.org/wiki/%EA%B2%A8%EC%9A%B8_(%EC%9C%A4%EB%8F%99%EC%A3%BC)\n",
      "트루게네프의 언덕 >>> https://ko.wikisource.org/wiki/%ED%8A%B8%EB%A3%A8%EA%B2%8C%EB%84%A4%ED%94%84%EC%9D%98_%EC%96%B8%EB%8D%95\n",
      "달을 쏘다 >>> https://ko.wikisource.org/wiki/%EB%8B%AC%EC%9D%84_%EC%8F%98%EB%8B%A4\n",
      "별똥 떨어진 데 >>> https://ko.wikisource.org/wiki/%EB%B3%84%EB%98%A5_%EB%96%A8%EC%96%B4%EC%A7%84_%EB%8D%B0\n",
      "화원에 꽃이 핀다 >>> https://ko.wikisource.org/wiki/%ED%99%94%EC%9B%90%EC%97%90_%EA%BD%83%EC%9D%B4_%ED%95%80%EB%8B%A4\n",
      "종시 >>> https://ko.wikisource.org/wiki/%EC%A2%85%EC%8B%9C\n"
     ]
    }
   ],
   "source": [
    "# 윤동주 시인 작품 모으기\n",
    "# https://ko.wikisource.org/wiki/%EC%A0%80%EC%9E%90:%EC%9C%A4%EB%8F%99%EC%A3%BC\n",
    "# mw-content-text > div.mw-parser-output > ul:nth-child(6) > li > ul > li:nth-child(1)\n",
    "\n",
    "#HTML\n",
    "url = \"https://ko.wikisource.org/wiki/%EC%A0%80%EC%9E%90:%EC%9C%A4%EB%8F%99%EC%A3%BC\"\n",
    "res = req.urlopen(url)\n",
    "\n",
    "#HTML 분석\n",
    "soup = BeautifulSoup(res, \"html.parser\")\n",
    "\n",
    "#데이터 추출하기\n",
    "datas = soup.select(\"div.mw-parser-output ul li a\")\n",
    "#print(list)\n",
    "list = []\n",
    "for data in datas:\n",
    "    list.append(data.string + \" >>> \" + \" https://ko.wikisource.org\" + data.attrs['href'])\n",
    "    print(data.string, \">>>\", \"https://ko.wikisource.org\"+data.attrs['href'])"
   ]
  },
  {
   "cell_type": "markdown",
   "id": "2208cde1",
   "metadata": {},
   "source": [
    "# 다음 영화 연간 순위 가져오기"
   ]
  },
  {
   "cell_type": "code",
   "execution_count": 104,
   "id": "76956fe4",
   "metadata": {},
   "outputs": [
    {
     "name": "stdout",
     "output_type": "stream",
     "text": [
      "1 : 남산의 부장들\n",
      "2 : 다만 악에서 구하소서\n",
      "3 : 반도\n",
      "4 : 히트맨\n",
      "5 : 테넷\n",
      "6 : 백두산\n",
      "7 : #살아있다\n",
      "8 : 강철비2: 정상회담\n",
      "9 : 담보\n",
      "10 : 닥터 두리틀\n",
      "11 : 삼진그룹 영어토익반\n",
      "12 : 정직한 후보\n",
      "13 : 도굴\n",
      "14 : 클로젯\n",
      "15 : 오케이 마담\n",
      "16 : 해치지않아\n",
      "17 : 천문: 하늘에 묻는다\n",
      "18 : 결백\n",
      "19 : 1917\n",
      "20 : 작은 아씨들\n",
      "21 : 미드웨이\n",
      "22 : 시동\n",
      "23 : 지푸라기라도 잡고 싶은 짐승들\n",
      "24 : 미스터 주: 사라진 VIP\n",
      "25 : 인비저블맨\n",
      "26 : 나쁜 녀석들: 포에버\n",
      "27 : 국제수사\n",
      "28 : 침입자\n",
      "29 : 스타워즈: 라이즈 오브 스카이워커\n",
      "30 : 스파이 지니어스 \n",
      "31 : 이웃사촌\n",
      "32 : 온워드: 단 하루의 기적\n",
      "33 : 소리도 없이\n",
      "34 : 버즈 오브 프레이(할리 퀸의 황홀한 해방)\n",
      "35 : 원더 우먼 1984\n",
      "36 : 겨울왕국 2\n",
      "37 : 오! 문희\n",
      "38 : 그린랜드\n",
      "39 : 위대한 쇼맨\n",
      "40 : 런\n",
      "41 : 뮬란\n",
      "42 : 내가 죽던 날\n",
      "43 : 기생충\n",
      "44 : 신비아파트 극장판 하늘도깨비 대 요르문간드\n",
      "45 : 프리즌 이스케이프\n",
      "46 : 검객\n",
      "47 : 조제\n",
      "48 : 사라진 시간\n",
      "49 : 밤쉘: 세상을 바꾼 폭탄선언\n",
      "50 : 알라딘\n"
     ]
    }
   ],
   "source": [
    "# https://movie.daum.net/boxoffice/yearly?year=2021\n",
    "# mw-content-text > div.mw-parser-output > ul:nth-child(6) > li > ul > li:nth-child(1)\n",
    "\n",
    "#mainContent > div > div.box_boxoffice > ol > li:nth-child(1) > div > div.thumb_cont > strong > a\n",
    "#mainContent > div > div.box_boxoffice > ol > li:nth-child(2) > div > div.thumb_cont > strong > a\n",
    "#mainContent > div > div.box_boxoffice > ol > li:nth-child(3) > div > div.thumb_cont > strong > a\n",
    "\n",
    "#HTML\n",
    "url = \"https://movie.daum.net/boxoffice/yearly?year=2021\"\n",
    "res = req.urlopen(url)\n",
    "\n",
    "#HTML 분석\n",
    "soup = BeautifulSoup(res, \"html.parser\")\n",
    "\n",
    "#데이터 추출하기\n",
    "datas = soup.select(\"strong > a\")\n",
    "list = []\n",
    "cnt = 1;\n",
    "for data in datas:\n",
    "    #list.append(cnt + \" : \" + data.string)\n",
    "    print(cnt, \":\", data.string)\n",
    "    cnt += 1"
   ]
  },
  {
   "cell_type": "markdown",
   "id": "766a5027",
   "metadata": {},
   "source": [
    "# 다음 IT뉴스 많이본 순서"
   ]
  },
  {
   "cell_type": "code",
   "execution_count": 114,
   "id": "22248371",
   "metadata": {},
   "outputs": [
    {
     "name": "stdout",
     "output_type": "stream",
     "text": [
      "https://v.daum.net/v/20210713140143407 : 이재명, 긴급 기자회견..\"4차 팬데믹 못막으면 전면봉쇄 불가피\"\n",
      "https://v.daum.net/v/20210713132549158 : BJ철구, 7살딸과 '여캠BJ 새엄마 월드컵'..아동학대 논란\n",
      "https://v.daum.net/v/20210713114057051 : [단독]\"술집 못가니 호텔 가자\" 60대 유명화가, 20대 성폭행 의혹\n",
      "https://v.daum.net/v/20210713124446148 : \"누나가 무슨 부모야\" 친누나 30차례 찔러 살해한 남동생.. 무기징역 구형\n",
      "https://v.daum.net/v/20210713144711324 : \"일출 보려다 물어뜯길 뻔\"..성산일출봉까지 점령한 야생들개\n",
      "https://v.daum.net/v/20210713133842565 : 정은경 '靑 방역기획관에 밀렸나' 질문에 \"소신껏 하고 있다\" 일축(종합)\n",
      "https://v.daum.net/v/20210713113441712 : [단독] 우리은행 본점서 코로나19 집단감염..\"발설 시 엄벌\"\n",
      "https://v.daum.net/v/20210713113230612 : 홍남기, 전국민 지원금 합의에 \"동의 안한다\"..여당과 충돌\n",
      "https://v.daum.net/v/20210713144622300 : \"확진자인데 와서 미안\" 농담에 카페 영업중단..업무방해 무죄\n",
      "https://v.daum.net/v/20210713133106300 : [김대영의 무기 인사이드] '천조국 최종병기' 대륙간탄도미사일 미니트맨 Ⅲ\n",
      "https://v.daum.net/v/20210713111827741 : \"살려주세요\" 외침에 바로 '풍덩'..초등생 3명 잇따라 구한 40대\n",
      "https://v.daum.net/v/20210713120602280 : 습도 높으면 35도서도 치명타..습한 한국 여름 무서운 이유\n",
      "https://v.daum.net/v/20210713143600846 : 청와대 앞에 착륙한 미끼 전투기, 힘을 보여주고 싶었다\n",
      "https://v.daum.net/v/20210713115624812 : 무려 60년간 조용하던 쿠바인들은 왜 들고 일어났나\n",
      "https://v.daum.net/v/20210713131902974 : \"돼지코 같다\" 싸늘한 반응..BMW 4시리즈 참혹한 결과\n",
      "https://v.daum.net/v/20210713133325380 : 예고 없이 잡힌 미스터트롯 전주 콘서트, 잇단 항의에 취소\n",
      "https://v.daum.net/v/20210713144944406 : 중등교원 양성 규모 축소..사범대 나와야 국영수 교사된다(종합)\n",
      "https://v.daum.net/v/20210713135902248 : \"이 시국에 떼창?\" 팬들 반발에..백기 든 '미스터트롯' 공연\n",
      "https://v.daum.net/v/20210713105323294 : 친누나 살해·시신유기 뒤 누나 행세 20대..부모, 눈물로 선처 호소(종합)\n",
      "https://v.daum.net/v/20210713115724852 : \"한국인 DNA에 표현력 없다\" 바이올린 거장 주커만 인종차별\n",
      "https://v.daum.net/v/20210713140846683 : 중·고교 교사 양성 규모 축소한다..사범대 안나오면 국영수 교사 되기 어려워\n",
      "https://v.daum.net/v/20210713142508329 : 부산도 위태롭다..유흥시설 넘어 식당·학교 등 전방위 확산(종합)\n",
      "https://v.daum.net/v/20210713131915980 : \"4000모 이식한거 맞아?\"..모발 이식 사진은 의료기록인가, 아닌가\n",
      "https://v.daum.net/v/20210713105938609 : 日, 또다시 독도 영유권 도발..文 대통령 '방일' 영향 미칠까\n",
      "https://v.daum.net/v/20210713125407426 : 짧고 굵은 장마 19일까지..20일부터 강한 폭염 온다\n",
      "https://v.daum.net/v/20210713150601168 : [영상]\"철학 붕괴\" 윤희숙 연일 이준석 비판..하태경 \"자해정치\"[이슈시개]\n",
      "https://v.daum.net/v/20210713132558167 : 정은경, 55~59세 예약 중단에 \"안내 못드려 송구..충분히 접종 가능\"(종합)\n",
      "https://v.daum.net/v/20210713122837887 : 이준석 \"宋과의 고민, 대변인들 거치며 전달안된듯\"(종합)\n",
      "https://v.daum.net/v/20210713115700827 : \"내년 하반기 미 금융시장 대폭락 온다\"\n",
      "https://v.daum.net/v/20210713140105375 : 연인 관계 2/3, 친구서 발전 (연구)\n",
      "https://v.daum.net/v/20210713123746051 : 내일 비수도권 거리두기 조정안 발표..3단계 일괄 적용엔 선 그어(종합)\n",
      "https://v.daum.net/v/20210713105516377 : 윤석열 제친 이낙연..野 대선주자 양자대결서 우세, 이재명보다 경쟁력\n",
      "https://v.daum.net/v/20210713101914801 : [이 시각] 남아공 폭동과 약탈, 더반 LG전자 공장 전소\n",
      "https://v.daum.net/v/20210713135852237 : 국민의힘 \"헬스장 금지하고 수영장은 샤워 허용..웃지못할 코미디\"\n",
      "https://v.daum.net/v/20210713102030874 : 93년생 \"날 위해 통 큰 투자\".. 93학번 \"집·양육·노후에 집중\"\n",
      "https://v.daum.net/v/20210713101420553 : 폭격 맞은 듯 순식간 '폭삭'..중국 1년만에 또 호텔붕괴 참사\n",
      "https://v.daum.net/v/20210713143838955 : [현장연결] 질병청 \"'돌파감염' 총 252명..얀센 143명-화이자 59명-AZ 50명\"\n",
      "https://v.daum.net/v/20210713141248818 : \"제가 가르쳤고 믿고 있는..\" 조국, 아내 정경심 징역 7년 구형에 '무죄 추정' 대법 판결 공유\n",
      "https://v.daum.net/v/20210713114535305 : [아경 여론조사]윤석열 가까스로 1위 유지..'지지율 큰 폭 하락'\n",
      "https://v.daum.net/v/20210713115712848 : 경찰, 논 갈아엎는 포클레인 막아선 농민들 수갑채워 연행\n",
      "https://v.daum.net/v/20210713135701154 : \"3번 음성 나온 직원만 근무\"..120명 집단감염 현대백화점 영업재개\n",
      "https://v.daum.net/v/20210713143001565 : \"9월 전국민 70% 접종?..백신 없어서 불가능\"\n",
      "https://v.daum.net/v/20210713114615340 : 대상자 352만명, 백신은 185만명분 뿐..왜 무작정 예약 받았나\n",
      "https://v.daum.net/v/20210713113202585 : 주말 전국 비→20~21일 장마철 종료→이후 '32도 안팎' 폭염\n",
      "https://v.daum.net/v/20210713083124361 : 김정은 허리춤에 손 감싼 女, 이선희 손잡고 'J에게' 불렀다 [영상]\n",
      "https://v.daum.net/v/20210713120020966 : \"한국인 DNA에 예술성 없다\" 바이올린 거장 주커만 막말\n",
      "https://v.daum.net/v/20210713130714728 : \"이혼소송 중인 집주인이 전세금을 못주겠다는데, 어떻게하죠?\"\n",
      "https://v.daum.net/v/20210713123935071 : 국회까지 강타한 '윤석열 장모'..與 \"사무장병원, 혈세 줄줄\"\n",
      "https://v.daum.net/v/20210713114217110 : 고민정, 정경심 눈물의 최후진술 SNS에 공유..\"읽어봐 주십시오\"\n",
      "https://v.daum.net/v/20210713124503155 : [영상] 차 막힌다고 강으로 '다이빙'..그가 전한 당시\n",
      "https://v.daum.net/v/20210713152514900 :  남아공, 전 대통령 수감..무력 반대 시위\n",
      "https://v.daum.net/v/20210713152102746 : 최고의 제주 숲길? 나는 주저 않고 여기다 \n",
      "[<a class=\"link_txt\" href=\"https://v.daum.net/v/20210713140143407\">이재명, 긴급 기자회견..\"4차 팬데믹 못막으면 전면봉쇄 불가피\"</a>, <a class=\"link_txt\" href=\"https://v.daum.net/v/20210713132549158\">BJ철구, 7살딸과 '여캠BJ 새엄마 월드컵'..아동학대 논란</a>, <a class=\"link_txt\" href=\"https://v.daum.net/v/20210713114057051\">[단독]\"술집 못가니 호텔 가자\" 60대 유명화가, 20대 성폭행 의혹</a>, <a class=\"link_txt\" href=\"https://v.daum.net/v/20210713124446148\">\"누나가 무슨 부모야\" 친누나 30차례 찔러 살해한 남동생.. 무기징역 구형</a>, <a class=\"link_txt\" href=\"https://v.daum.net/v/20210713144711324\">\"일출 보려다 물어뜯길 뻔\"..성산일출봉까지 점령한 야생들개</a>, <a class=\"link_txt\" href=\"https://v.daum.net/v/20210713133842565\">정은경 '靑 방역기획관에 밀렸나' 질문에 \"소신껏 하고 있다\" 일축(종합)</a>, <a class=\"link_txt\" href=\"https://v.daum.net/v/20210713113441712\">[단독] 우리은행 본점서 코로나19 집단감염..\"발설 시 엄벌\"</a>, <a class=\"link_txt\" href=\"https://v.daum.net/v/20210713113230612\">홍남기, 전국민 지원금 합의에 \"동의 안한다\"..여당과 충돌</a>, <a class=\"link_txt\" href=\"https://v.daum.net/v/20210713144622300\">\"확진자인데 와서 미안\" 농담에 카페 영업중단..업무방해 무죄</a>, <a class=\"link_txt\" href=\"https://v.daum.net/v/20210713133106300\">[김대영의 무기 인사이드] '천조국 최종병기' 대륙간탄도미사일 미니트맨 Ⅲ</a>, <a class=\"link_txt\" href=\"https://v.daum.net/v/20210713111827741\">\"살려주세요\" 외침에 바로 '풍덩'..초등생 3명 잇따라 구한 40대</a>, <a class=\"link_txt\" href=\"https://v.daum.net/v/20210713120602280\">습도 높으면 35도서도 치명타..습한 한국 여름 무서운 이유</a>, <a class=\"link_txt\" href=\"https://v.daum.net/v/20210713143600846\">청와대 앞에 착륙한 미끼 전투기, 힘을 보여주고 싶었다</a>, <a class=\"link_txt\" href=\"https://v.daum.net/v/20210713115624812\">무려 60년간 조용하던 쿠바인들은 왜 들고 일어났나</a>, <a class=\"link_txt\" href=\"https://v.daum.net/v/20210713131902974\">\"돼지코 같다\" 싸늘한 반응..BMW 4시리즈 참혹한 결과</a>, <a class=\"link_txt\" href=\"https://v.daum.net/v/20210713133325380\">예고 없이 잡힌 미스터트롯 전주 콘서트, 잇단 항의에 취소</a>, <a class=\"link_txt\" href=\"https://v.daum.net/v/20210713144944406\">중등교원 양성 규모 축소..사범대 나와야 국영수 교사된다(종합)</a>, <a class=\"link_txt\" href=\"https://v.daum.net/v/20210713135902248\">\"이 시국에 떼창?\" 팬들 반발에..백기 든 '미스터트롯' 공연</a>, <a class=\"link_txt\" href=\"https://v.daum.net/v/20210713105323294\">친누나 살해·시신유기 뒤 누나 행세 20대..부모, 눈물로 선처 호소(종합)</a>, <a class=\"link_txt\" href=\"https://v.daum.net/v/20210713115724852\">\"한국인 DNA에 표현력 없다\" 바이올린 거장 주커만 인종차별</a>, <a class=\"link_txt\" href=\"https://v.daum.net/v/20210713140846683\">중·고교 교사 양성 규모 축소한다..사범대 안나오면 국영수 교사 되기 어려워</a>, <a class=\"link_txt\" href=\"https://v.daum.net/v/20210713142508329\">부산도 위태롭다..유흥시설 넘어 식당·학교 등 전방위 확산(종합)</a>, <a class=\"link_txt\" href=\"https://v.daum.net/v/20210713131915980\">\"4000모 이식한거 맞아?\"..모발 이식 사진은 의료기록인가, 아닌가</a>, <a class=\"link_txt\" href=\"https://v.daum.net/v/20210713105938609\">日, 또다시 독도 영유권 도발..文 대통령 '방일' 영향 미칠까</a>, <a class=\"link_txt\" href=\"https://v.daum.net/v/20210713125407426\">짧고 굵은 장마 19일까지..20일부터 강한 폭염 온다</a>, <a class=\"link_txt\" href=\"https://v.daum.net/v/20210713150601168\">[영상]\"철학 붕괴\" 윤희숙 연일 이준석 비판..하태경 \"자해정치\"[이슈시개]</a>, <a class=\"link_txt\" href=\"https://v.daum.net/v/20210713132558167\">정은경, 55~59세 예약 중단에 \"안내 못드려 송구..충분히 접종 가능\"(종합)</a>, <a class=\"link_txt\" href=\"https://v.daum.net/v/20210713122837887\">이준석 \"宋과의 고민, 대변인들 거치며 전달안된듯\"(종합)</a>, <a class=\"link_txt\" href=\"https://v.daum.net/v/20210713115700827\">\"내년 하반기 미 금융시장 대폭락 온다\"</a>, <a class=\"link_txt\" href=\"https://v.daum.net/v/20210713140105375\">연인 관계 2/3, 친구서 발전 (연구)</a>, <a class=\"link_txt\" href=\"https://v.daum.net/v/20210713123746051\">내일 비수도권 거리두기 조정안 발표..3단계 일괄 적용엔 선 그어(종합)</a>, <a class=\"link_txt\" href=\"https://v.daum.net/v/20210713105516377\">윤석열 제친 이낙연..野 대선주자 양자대결서 우세, 이재명보다 경쟁력</a>, <a class=\"link_txt\" href=\"https://v.daum.net/v/20210713101914801\">[이 시각] 남아공 폭동과 약탈, 더반 LG전자 공장 전소</a>, <a class=\"link_txt\" href=\"https://v.daum.net/v/20210713135852237\">국민의힘 \"헬스장 금지하고 수영장은 샤워 허용..웃지못할 코미디\"</a>, <a class=\"link_txt\" href=\"https://v.daum.net/v/20210713102030874\">93년생 \"날 위해 통 큰 투자\".. 93학번 \"집·양육·노후에 집중\"</a>, <a class=\"link_txt\" href=\"https://v.daum.net/v/20210713101420553\">폭격 맞은 듯 순식간 '폭삭'..중국 1년만에 또 호텔붕괴 참사</a>, <a class=\"link_txt\" href=\"https://v.daum.net/v/20210713143838955\">[현장연결] 질병청 \"'돌파감염' 총 252명..얀센 143명-화이자 59명-AZ 50명\"</a>, <a class=\"link_txt\" href=\"https://v.daum.net/v/20210713141248818\">\"제가 가르쳤고 믿고 있는..\" 조국, 아내 정경심 징역 7년 구형에 '무죄 추정' 대법 판결 공유</a>, <a class=\"link_txt\" href=\"https://v.daum.net/v/20210713114535305\">[아경 여론조사]윤석열 가까스로 1위 유지..'지지율 큰 폭 하락'</a>, <a class=\"link_txt\" href=\"https://v.daum.net/v/20210713115712848\">경찰, 논 갈아엎는 포클레인 막아선 농민들 수갑채워 연행</a>, <a class=\"link_txt\" href=\"https://v.daum.net/v/20210713135701154\">\"3번 음성 나온 직원만 근무\"..120명 집단감염 현대백화점 영업재개</a>, <a class=\"link_txt\" href=\"https://v.daum.net/v/20210713143001565\">\"9월 전국민 70% 접종?..백신 없어서 불가능\"</a>, <a class=\"link_txt\" href=\"https://v.daum.net/v/20210713114615340\">대상자 352만명, 백신은 185만명분 뿐..왜 무작정 예약 받았나</a>, <a class=\"link_txt\" href=\"https://v.daum.net/v/20210713113202585\">주말 전국 비→20~21일 장마철 종료→이후 '32도 안팎' 폭염</a>, <a class=\"link_txt\" href=\"https://v.daum.net/v/20210713083124361\">김정은 허리춤에 손 감싼 女, 이선희 손잡고 'J에게' 불렀다 [영상]</a>, <a class=\"link_txt\" href=\"https://v.daum.net/v/20210713120020966\">\"한국인 DNA에 예술성 없다\" 바이올린 거장 주커만 막말</a>, <a class=\"link_txt\" href=\"https://v.daum.net/v/20210713130714728\">\"이혼소송 중인 집주인이 전세금을 못주겠다는데, 어떻게하죠?\"</a>, <a class=\"link_txt\" href=\"https://v.daum.net/v/20210713123935071\">국회까지 강타한 '윤석열 장모'..與 \"사무장병원, 혈세 줄줄\"</a>, <a class=\"link_txt\" href=\"https://v.daum.net/v/20210713114217110\">고민정, 정경심 눈물의 최후진술 SNS에 공유..\"읽어봐 주십시오\"</a>, <a class=\"link_txt\" href=\"https://v.daum.net/v/20210713124503155\">[영상] 차 막힌다고 강으로 '다이빙'..그가 전한 당시</a>, <a class=\"link_txt\" href=\"https://v.daum.net/v/20210713152514900\"> 남아공, 전 대통령 수감..무력 반대 시위</a>, <a class=\"link_txt\" href=\"https://v.daum.net/v/20210713152102746\">최고의 제주 숲길? 나는 주저 않고 여기다 </a>]\n"
     ]
    }
   ],
   "source": [
    "#https://news.daum.net/ranking/popular\n",
    "\n",
    "from bs4 import BeautifulSoup\n",
    "import urllib.request as req\n",
    "\n",
    "#HTML\n",
    "url = \"https://news.daum.net/ranking/popular\"\n",
    "res = req.urlopen(url)\n",
    "\n",
    "#HTML 분석\n",
    "soup = BeautifulSoup(res, \"html.parser\")\n",
    "\n",
    "#데이터 추출하기\n",
    "datas = soup.select(\"strong.tit_thumb > a\")\n",
    "for data in datas:\n",
    "    print(data.attrs['href'], \":\", data.string)\n",
    "print(datas)"
   ]
  }
 ],
 "metadata": {
  "kernelspec": {
   "display_name": "Python 3",
   "language": "python",
   "name": "python3"
  },
  "language_info": {
   "codemirror_mode": {
    "name": "ipython",
    "version": 3
   },
   "file_extension": ".py",
   "mimetype": "text/x-python",
   "name": "python",
   "nbconvert_exporter": "python",
   "pygments_lexer": "ipython3",
   "version": "3.8.8"
  }
 },
 "nbformat": 4,
 "nbformat_minor": 5
}
