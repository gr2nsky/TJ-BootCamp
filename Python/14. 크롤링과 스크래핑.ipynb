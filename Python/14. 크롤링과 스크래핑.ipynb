{
 "cells": [
  {
   "cell_type": "markdown",
   "id": "9b021062",
   "metadata": {},
   "source": [
    "# 데이터 다운로드 하기\n",
    ": 인터넷에서 지정된 파일을 내 PC에 저장하기"
   ]
  },
  {
   "cell_type": "code",
   "execution_count": 1,
   "id": "13fe36fd",
   "metadata": {},
   "outputs": [
    {
     "name": "stdout",
     "output_type": "stream",
     "text": [
      "저장 완료\n"
     ]
    }
   ],
   "source": [
    "#library\n",
    "import urllib.request\n",
    "\n",
    "#URL과 저장경로 지정\n",
    "url = \"http://uta.pw/shodou/img/28/214.png\"\n",
    "savename = \"./Data/test.png\"\n",
    "\n",
    "#다운로드 하기\n",
    "urllib.request.urlretrieve(url, savename)\n",
    "print(\"저장 완료\")"
   ]
  },
  {
   "cell_type": "code",
   "execution_count": 7,
   "id": "d5909d24",
   "metadata": {},
   "outputs": [
    {
     "ename": "TypeError",
     "evalue": "a bytes-like object is required, not 'method'",
     "output_type": "error",
     "traceback": [
      "\u001b[0;31m---------------------------------------------------------------------------\u001b[0m",
      "\u001b[0;31mTypeError\u001b[0m                                 Traceback (most recent call last)",
      "\u001b[0;32m<ipython-input-7-596674c58e65>\u001b[0m in \u001b[0;36m<module>\u001b[0;34m\u001b[0m\n\u001b[1;32m     10\u001b[0m \u001b[0;31m#파일로 저장하기\u001b[0m\u001b[0;34m\u001b[0m\u001b[0;34m\u001b[0m\u001b[0;34m\u001b[0m\u001b[0m\n\u001b[1;32m     11\u001b[0m \u001b[0;32mwith\u001b[0m \u001b[0mopen\u001b[0m\u001b[0;34m(\u001b[0m\u001b[0msavename\u001b[0m\u001b[0;34m,\u001b[0m \u001b[0;34m\"wb\"\u001b[0m\u001b[0;34m)\u001b[0m \u001b[0;32mas\u001b[0m \u001b[0mf\u001b[0m\u001b[0;34m:\u001b[0m\u001b[0;34m\u001b[0m\u001b[0;34m\u001b[0m\u001b[0m\n\u001b[0;32m---> 12\u001b[0;31m     \u001b[0mf\u001b[0m\u001b[0;34m.\u001b[0m\u001b[0mwrite\u001b[0m\u001b[0;34m(\u001b[0m\u001b[0mmem\u001b[0m\u001b[0;34m)\u001b[0m\u001b[0;34m\u001b[0m\u001b[0;34m\u001b[0m\u001b[0m\n\u001b[0m\u001b[1;32m     13\u001b[0m \u001b[0mprint\u001b[0m\u001b[0;34m(\u001b[0m\u001b[0;34m\"저장완료\"\u001b[0m\u001b[0;34m)\u001b[0m\u001b[0;34m\u001b[0m\u001b[0;34m\u001b[0m\u001b[0m\n",
      "\u001b[0;31mTypeError\u001b[0m: a bytes-like object is required, not 'method'"
     ]
    }
   ],
   "source": [
    "#library\n",
    "import urllib.request\n",
    "\n",
    "#URL과 저장경로 지정\n",
    "url = \"http://uta.pw/shodou/img/28/214.png\"\n",
    "savename = \"./Data/test1.png\"\n",
    "\n",
    "#다운로드 하기\n",
    "mem = urllib.request.urlopen(url).read\n",
    "#파일로 저장하기\n",
    "with open(savename, \"wb\") as f:\n",
    "    f.write(mem)\n",
    "print(\"저장완료\")"
   ]
  },
  {
   "cell_type": "markdown",
   "id": "f8842af7",
   "metadata": {},
   "source": [
    "# BeatifulSoup로 Scaraping 하기\n",
    ": 간단하게 HTML과 MXL에서 정보를 추출"
   ]
  },
  {
   "cell_type": "code",
   "execution_count": 10,
   "id": "217e2768",
   "metadata": {},
   "outputs": [
    {
     "name": "stdout",
     "output_type": "stream",
     "text": [
      "Requirement already satisfied: beautifulsoup4 in ./opt/anaconda3/lib/python3.8/site-packages (4.9.3)\n",
      "Requirement already satisfied: soupsieve>1.2 in ./opt/anaconda3/lib/python3.8/site-packages (from beautifulsoup4) (2.2.1)\n"
     ]
    }
   ],
   "source": [
    "!pip install beautifulsoup4"
   ]
  },
  {
   "cell_type": "code",
   "execution_count": 13,
   "id": "07e2f079",
   "metadata": {},
   "outputs": [
    {
     "name": "stdout",
     "output_type": "stream",
     "text": [
      "<h1>Header</h1>\n",
      "<p>Line 1을 서술<p>\n",
      "</p></p>\n"
     ]
    },
    {
     "ename": "NameError",
     "evalue": "name 'pririn' is not defined",
     "output_type": "error",
     "traceback": [
      "\u001b[0;31m---------------------------------------------------------------------------\u001b[0m",
      "\u001b[0;31mNameError\u001b[0m                                 Traceback (most recent call last)",
      "\u001b[0;32m<ipython-input-13-84048917230a>\u001b[0m in \u001b[0;36m<module>\u001b[0;34m\u001b[0m\n\u001b[1;32m     19\u001b[0m \u001b[0mp1\u001b[0m \u001b[0;34m=\u001b[0m \u001b[0msoup\u001b[0m\u001b[0;34m.\u001b[0m\u001b[0mhtml\u001b[0m\u001b[0;34m.\u001b[0m\u001b[0mbody\u001b[0m\u001b[0;34m.\u001b[0m\u001b[0mp\u001b[0m\u001b[0;34m\u001b[0m\u001b[0;34m\u001b[0m\u001b[0m\n\u001b[1;32m     20\u001b[0m \u001b[0mprint\u001b[0m\u001b[0;34m(\u001b[0m\u001b[0mp1\u001b[0m\u001b[0;34m)\u001b[0m\u001b[0;34m\u001b[0m\u001b[0;34m\u001b[0m\u001b[0m\n\u001b[0;32m---> 21\u001b[0;31m \u001b[0mpririn\u001b[0m\u001b[0;34m\u001b[0m\u001b[0;34m\u001b[0m\u001b[0m\n\u001b[0m\u001b[1;32m     22\u001b[0m \u001b[0;34m\u001b[0m\u001b[0m\n\u001b[1;32m     23\u001b[0m \u001b[0;31m#텍스트만 출럭\u001b[0m\u001b[0;34m\u001b[0m\u001b[0;34m\u001b[0m\u001b[0;34m\u001b[0m\u001b[0m\n",
      "\u001b[0;31mNameError\u001b[0m: name 'pririn' is not defined"
     ]
    }
   ],
   "source": [
    "#기본 사용법\n",
    "from bs4 import BeautifulSoup\n",
    "#HTML Sample\n",
    "html = \"\"\"\n",
    "    <html>\n",
    "        <body>\n",
    "            <h1>Header</h1>\n",
    "            <p>Line 1을 서술<p>\n",
    "        </body>\n",
    "    </html>\n",
    "\"\"\"\n",
    "#HTML 분석\n",
    "soup = BeautifulSoup(html, 'html.parser')\n",
    "#print(soup)\n",
    "\n",
    "#원하는 부분 추출하기\n",
    "h1 = soup.html.body.h1\n",
    "print(h1)\n",
    "p1 = soup.html.body.p\n",
    "print(p1)\n",
    "pririn\n",
    "\n",
    "#텍스트만 출럭\n",
    "print(\"h1=\", h1.String)\n",
    "print(\"h1=\", h1.text)\n",
    "print(\"p1=\", p1.String)\n",
    "print(\"p1=\", text)\n"
   ]
  },
  {
   "cell_type": "code",
   "execution_count": 16,
   "id": "e248b858",
   "metadata": {},
   "outputs": [
    {
     "ename": "SyntaxError",
     "evalue": "EOL while scanning string literal (<ipython-input-16-baf4a148f071>, line 16)",
     "output_type": "error",
     "traceback": [
      "\u001b[0;36m  File \u001b[0;32m\"<ipython-input-16-baf4a148f071>\"\u001b[0;36m, line \u001b[0;32m16\u001b[0m\n\u001b[0;31m    title = \"spup.find(Id = 'title')\u001b[0m\n\u001b[0m                                    ^\u001b[0m\n\u001b[0;31mSyntaxError\u001b[0m\u001b[0;31m:\u001b[0m EOL while scanning string literal\n"
     ]
    }
   ],
   "source": [
    "# id로 요소를 추출하기\n",
    "from bs4 import BeautifulSoup\n",
    "html = \"\"\"\n",
    "    <html>\n",
    "        <body>\n",
    "            <h1>Header</h1>\n",
    "            <p>Line 1을 서술<p>\n",
    "        </body>\n",
    "    </html>\n",
    "\"\"\"\n",
    "\n",
    "# HTML 분석\n",
    "soup = BeatifutSoup(html, \"html.parser\")\n",
    "\n",
    "#원하는 부본 충견랍=ㅂㅈ==\n",
    "title = \"spup.find(Id = 'title')\n",
    "body = soup.find(id = body)\n",
    "\n",
    "print(title)\n",
    "print(body)\n",
    "\n",
    "print(title)\n",
    "print(body)\n",
    "\n",
    "#text만 출력\n",
    "#미완 소스참고해서 완성할것"
   ]
  },
  {
   "cell_type": "code",
   "execution_count": 21,
   "id": "30007d73",
   "metadata": {},
   "outputs": [
    {
     "name": "stdout",
     "output_type": "stream",
     "text": [
      "naver\n",
      "https://www.naver.com\n",
      "daum\n",
      "https://www.daum.com\n"
     ]
    }
   ],
   "source": [
    "#여러개의 요소 추출하기\n",
    "from bs4 import BeautifulSoup\n",
    "html = \"\"\"\n",
    "    <html>\n",
    "        <body>\n",
    "            <ul>\n",
    "                <li><a href=\"https://www.naver.com\">naver</a></li>\n",
    "                 <li><a href=\"https://www.daum.com\">daum</a></li>\n",
    "            </ul>\n",
    "        </body>\n",
    "    </html>\n",
    "\"\"\"\n",
    "\n",
    "#HTML 분석\n",
    "soup = BeautifulSoup(html, 'html.parser')\n",
    "#가장 최초에 검색된 항목을 가져온다.\n",
    "soup.find('a')\n",
    "#검색된 모든 항목을 가져온다. list형식\n",
    "links = soup.find_all('a') \n",
    "#링크 목록 출력\n",
    "for link in links:\n",
    "#     print(link.string)\n",
    "#     print(link.attrs['href'])\n",
    "    href = link.attrs['href']\n",
    "    text = link.string\n",
    "    \n"
   ]
  },
  {
   "cell_type": "code",
   "execution_count": null,
   "id": "848f9320",
   "metadata": {},
   "outputs": [],
   "source": []
  }
 ],
 "metadata": {
  "kernelspec": {
   "display_name": "Python 3",
   "language": "python",
   "name": "python3"
  },
  "language_info": {
   "codemirror_mode": {
    "name": "ipython",
    "version": 3
   },
   "file_extension": ".py",
   "mimetype": "text/x-python",
   "name": "python",
   "nbconvert_exporter": "python",
   "pygments_lexer": "ipython3",
   "version": "3.8.8"
  }
 },
 "nbformat": 4,
 "nbformat_minor": 5
}
