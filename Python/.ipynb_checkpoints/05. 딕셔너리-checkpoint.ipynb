{
 "cells": [
  {
   "cell_type": "markdown",
   "id": "3f9f5ca2",
   "metadata": {},
   "source": [
    "# 딕셔너리(Dictionary)\n",
    ": 순서가 정해져 있지 않고, key를 통해 valu를 얻는다."
   ]
  },
  {
   "cell_type": "code",
   "execution_count": 1,
   "id": "17189382",
   "metadata": {},
   "outputs": [],
   "source": [
    "# Dictionary 사용하기\n",
    "dic = {'name' : 'petty', 'phone' : '010-1111-2222', 'birth' : '1231'}"
   ]
  },
  {
   "cell_type": "code",
   "execution_count": 2,
   "id": "2adf5567",
   "metadata": {},
   "outputs": [
    {
     "data": {
      "text/plain": [
       "'petty'"
      ]
     },
     "execution_count": 2,
     "metadata": {},
     "output_type": "execute_result"
    }
   ],
   "source": [
    "dic['name']"
   ]
  },
  {
   "cell_type": "code",
   "execution_count": 3,
   "id": "49fff2f9",
   "metadata": {},
   "outputs": [
    {
     "data": {
      "text/plain": [
       "'1231'"
      ]
     },
     "execution_count": 3,
     "metadata": {},
     "output_type": "execute_result"
    }
   ],
   "source": [
    "dic['birth']"
   ]
  },
  {
   "cell_type": "code",
   "execution_count": 4,
   "id": "1f307ec4",
   "metadata": {},
   "outputs": [
    {
     "name": "stdout",
     "output_type": "stream",
     "text": [
      "[1, 2, 3]\n",
      "1\n"
     ]
    }
   ],
   "source": [
    "dic1 = {'a' : [1,2,3]}\n",
    "print(dic1['a'])\n",
    "print(dic1['a'][0])"
   ]
  },
  {
   "cell_type": "code",
   "execution_count": 5,
   "id": "14350071",
   "metadata": {},
   "outputs": [
    {
     "name": "stdout",
     "output_type": "stream",
     "text": [
      "{'a': [1, 2, 3], 'b': 'bbb', 'name': 'petty'}\n"
     ]
    }
   ],
   "source": [
    "\n",
    "dic1['b'] = 'bbb'\n",
    "dic1['name'] = 'petty'\n",
    "print(dic1)"
   ]
  },
  {
   "cell_type": "code",
   "execution_count": 6,
   "id": "e6e6bc52",
   "metadata": {},
   "outputs": [
    {
     "data": {
      "text/plain": [
       "{'a': [1, 2, 3], 'name': 'petty'}"
      ]
     },
     "execution_count": 6,
     "metadata": {},
     "output_type": "execute_result"
    }
   ],
   "source": [
    "del dic1['b']\n",
    "dic1"
   ]
  },
  {
   "cell_type": "markdown",
   "id": "056bce70",
   "metadata": {},
   "source": [
    "# 딕셔너리 관련 함수"
   ]
  },
  {
   "cell_type": "code",
   "execution_count": 7,
   "id": "98b017a3",
   "metadata": {},
   "outputs": [
    {
     "data": {
      "text/plain": [
       "dict_keys(['name', 'phone', 'birth'])"
      ]
     },
     "execution_count": 7,
     "metadata": {},
     "output_type": "execute_result"
    }
   ],
   "source": [
    "dic = {'name' : 'petty', 'phone' : '010-1111-2222', 'birth' : '1231'}\n",
    "dic.keys()"
   ]
  },
  {
   "cell_type": "code",
   "execution_count": 8,
   "id": "c9a568bf",
   "metadata": {},
   "outputs": [
    {
     "name": "stdout",
     "output_type": "stream",
     "text": [
      "['name', 'phone', 'birth']\n"
     ]
    }
   ],
   "source": [
    "# dic.keys를 list로 변환\n",
    "dic_list = list(dic.keys())\n",
    "print (dic_list)"
   ]
  },
  {
   "cell_type": "code",
   "execution_count": 9,
   "id": "b3bbd5fc",
   "metadata": {},
   "outputs": [
    {
     "data": {
      "text/plain": [
       "dict_values(['petty', '010-1111-2222', '1231'])"
      ]
     },
     "execution_count": 9,
     "metadata": {},
     "output_type": "execute_result"
    }
   ],
   "source": [
    "# value\n",
    "dic.values()\n"
   ]
  },
  {
   "cell_type": "code",
   "execution_count": 10,
   "id": "bf5fc383",
   "metadata": {},
   "outputs": [
    {
     "data": {
      "text/plain": [
       "'petty'"
      ]
     },
     "execution_count": 10,
     "metadata": {},
     "output_type": "execute_result"
    }
   ],
   "source": [
    "dic_value = list(dic.values())\n",
    "dic_value[0]"
   ]
  },
  {
   "cell_type": "code",
   "execution_count": 11,
   "id": "c75fc2bf",
   "metadata": {},
   "outputs": [
    {
     "data": {
      "text/plain": [
       "dict_items([('name', 'petty'), ('phone', '010-1111-2222'), ('birth', '1231')])"
      ]
     },
     "execution_count": 11,
     "metadata": {},
     "output_type": "execute_result"
    }
   ],
   "source": [
    "#key, value를 함께 얻기\n",
    "dic.items()"
   ]
  },
  {
   "cell_type": "code",
   "execution_count": 12,
   "id": "cdc3e485",
   "metadata": {},
   "outputs": [
    {
     "name": "stdout",
     "output_type": "stream",
     "text": [
      "name : petty\n",
      "phone : 010-1111-2222\n",
      "birth : 1231\n"
     ]
    }
   ],
   "source": [
    "for i in dic.items():\n",
    "    print(i[0], \":\", i[1])"
   ]
  },
  {
   "cell_type": "code",
   "execution_count": 44,
   "id": "5cc81218",
   "metadata": {},
   "outputs": [
    {
     "name": "stdout",
     "output_type": "stream",
     "text": [
      "dict_items([('name', 'petty'), ('phone', '010-1111-2222'), ('birth', '1231')])\n",
      "name : petty\n",
      "phone : 010-1111-2222\n",
      "birth : 1231\n",
      "['name : petty', 'phone : 010-1111-2222', 'birth : 1231']\n"
     ]
    }
   ],
   "source": [
    "# dic.items를 list로 변환하기\n",
    "# name : petty\n",
    "\n",
    "print(dic.items())\n",
    "dic_item_list = list(dic.items())\n",
    "\n",
    "for i in range(0, len(dic_item_list)):\n",
    "    print(dic_item_list[i][0], \":\" , dic_item_list[i][1])\n",
    "    dic_item_list[i] = dic_item_list[i][0] + \" : \" + dic_item_list[i][1]\n",
    "    \n",
    "print(dic_item_list)"
   ]
  },
  {
   "cell_type": "code",
   "execution_count": null,
   "id": "2d01d89f",
   "metadata": {},
   "outputs": [],
   "source": []
  }
 ],
 "metadata": {
  "kernelspec": {
   "display_name": "Python 3",
   "language": "python",
   "name": "python3"
  },
  "language_info": {
   "codemirror_mode": {
    "name": "ipython",
    "version": 3
   },
   "file_extension": ".py",
   "mimetype": "text/x-python",
   "name": "python",
   "nbconvert_exporter": "python",
   "pygments_lexer": "ipython3",
   "version": "3.8.8"
  }
 },
 "nbformat": 4,
 "nbformat_minor": 5
}
