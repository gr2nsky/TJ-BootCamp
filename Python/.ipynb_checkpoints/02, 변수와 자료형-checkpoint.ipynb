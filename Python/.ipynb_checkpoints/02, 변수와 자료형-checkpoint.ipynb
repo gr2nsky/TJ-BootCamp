{
 "cells": [
  {
   "cell_type": "markdown",
   "id": "6cc41deb",
   "metadata": {},
   "source": [
    "# 변수 이름의 작성 규칙\n",
    "- 첫자는 영문시작\n",
    "- 첫자를 제외하고 _, . 사용가능\n"
   ]
  },
  {
   "cell_type": "code",
   "execution_count": 1,
   "id": "4edf9a70",
   "metadata": {},
   "outputs": [
    {
     "data": {
      "text/plain": [
       "0"
      ]
     },
     "execution_count": 1,
     "metadata": {},
     "output_type": "execute_result"
    }
   ],
   "source": [
    "#정수형\n",
    "var01 = 123\n",
    "var01 = -17\n",
    "var01 = 0\n",
    "\n",
    "var01"
   ]
  },
  {
   "cell_type": "code",
   "execution_count": 2,
   "id": "00339774",
   "metadata": {},
   "outputs": [
    {
     "data": {
      "text/plain": [
       "-12.34"
      ]
     },
     "execution_count": 2,
     "metadata": {},
     "output_type": "execute_result"
    }
   ],
   "source": [
    "#실수형\n",
    "var02 = 1.2\n",
    "var02 = -12.34\n",
    "\n",
    "var02"
   ]
  },
  {
   "cell_type": "code",
   "execution_count": 3,
   "id": "6f298a49",
   "metadata": {},
   "outputs": [
    {
     "name": "stdout",
     "output_type": "stream",
     "text": [
      "덧셈 :  7\n",
      "뺄셈 :  -1\n",
      "곱셈 :  12\n",
      "실수 나눗셈 :  0.75\n",
      "정수 나눗셈 :  0\n",
      "정수 나눗셈 나머지 :  3\n",
      "제곱 :  9\n",
      "\n"
     ]
    }
   ],
   "source": [
    "# 연산자\n",
    "var01 = 3\n",
    "var02 = 4\n",
    "\n",
    "print('덧셈 : ', var01 + var02)\n",
    "print('뺄셈 : ',var01 - var02)\n",
    "print('곱셈 : ',var01 * var02)\n",
    "print('실수 나눗셈 : ',var01 / var02)\n",
    "print('정수 나눗셈 : ',var01 // var02)\n",
    "print('정수 나눗셈 나머지 : ',var01 % var02)\n",
    "print('제곱 : ', var01 **2)\n",
    "print('')"
   ]
  },
  {
   "cell_type": "markdown",
   "id": "2a6d9b4c",
   "metadata": {},
   "source": [
    "---\n",
    "# 파이썬 모듈을 이용한 수학계산"
   ]
  },
  {
   "cell_type": "code",
   "execution_count": 4,
   "id": "5e6da7af",
   "metadata": {},
   "outputs": [],
   "source": [
    "# 수학계산 모듈 불러오기\n",
    "import math"
   ]
  },
  {
   "cell_type": "code",
   "execution_count": 5,
   "id": "39678588",
   "metadata": {},
   "outputs": [
    {
     "data": {
      "text/plain": [
       "9.0"
      ]
     },
     "execution_count": 5,
     "metadata": {},
     "output_type": "execute_result"
    }
   ],
   "source": [
    "# 거듭제곱\n",
    "math.pow(var01, 2)"
   ]
  },
  {
   "cell_type": "code",
   "execution_count": 6,
   "id": "3d7bccf7",
   "metadata": {},
   "outputs": [
    {
     "data": {
      "text/plain": [
       "1.7320508075688772"
      ]
     },
     "execution_count": 6,
     "metadata": {},
     "output_type": "execute_result"
    }
   ],
   "source": [
    "#제곱근\n",
    "math.sqrt(var01)"
   ]
  },
  {
   "cell_type": "code",
   "execution_count": 7,
   "id": "a0ee560e",
   "metadata": {},
   "outputs": [
    {
     "data": {
      "text/plain": [
       "0.8509035245341184"
      ]
     },
     "execution_count": 7,
     "metadata": {},
     "output_type": "execute_result"
    }
   ],
   "source": [
    "#sin(45)\n",
    "math.sin(45)"
   ]
  },
  {
   "cell_type": "code",
   "execution_count": 8,
   "id": "eec27a5a",
   "metadata": {},
   "outputs": [
    {
     "data": {
      "text/plain": [
       "1.0"
      ]
     },
     "execution_count": 8,
     "metadata": {},
     "output_type": "execute_result"
    }
   ],
   "source": [
    "math.pow(math.sin(45), 2) + math.pow(math.cos(45), 2)"
   ]
  },
  {
   "cell_type": "markdown",
   "id": "5dfc2e2d",
   "metadata": {},
   "source": [
    "---\n",
    "# 난수발생"
   ]
  },
  {
   "cell_type": "code",
   "execution_count": 9,
   "id": "a77a426a",
   "metadata": {},
   "outputs": [],
   "source": [
    "import random"
   ]
  },
  {
   "cell_type": "code",
   "execution_count": 10,
   "id": "e595aee3",
   "metadata": {},
   "outputs": [
    {
     "data": {
      "text/plain": [
       "38"
      ]
     },
     "execution_count": 10,
     "metadata": {},
     "output_type": "execute_result"
    }
   ],
   "source": [
    "random.randint(1, 100)"
   ]
  },
  {
   "cell_type": "code",
   "execution_count": 11,
   "id": "6ea34a35",
   "metadata": {},
   "outputs": [
    {
     "data": {
      "text/plain": [
       "[4, 1, 3]"
      ]
     },
     "execution_count": 11,
     "metadata": {},
     "output_type": "execute_result"
    }
   ],
   "source": [
    "rlist = [1, 2, 3, 4, 5]\n",
    "random.sample(rlist, 3)"
   ]
  },
  {
   "cell_type": "code",
   "execution_count": 12,
   "id": "77dc9e07",
   "metadata": {
    "collapsed": true
   },
   "outputs": [
    {
     "name": "stdout",
     "output_type": "stream",
     "text": [
      "1\n",
      "2\n",
      "3\n",
      "4\n",
      "5\n",
      "6\n",
      "7\n",
      "8\n",
      "9\n",
      "10\n",
      "11\n",
      "12\n",
      "13\n",
      "14\n",
      "15\n",
      "16\n",
      "17\n",
      "18\n",
      "19\n",
      "20\n",
      "21\n",
      "22\n",
      "23\n",
      "24\n",
      "25\n",
      "26\n",
      "27\n",
      "28\n",
      "29\n",
      "30\n",
      "31\n",
      "32\n",
      "33\n",
      "34\n",
      "35\n",
      "36\n",
      "37\n",
      "38\n",
      "39\n",
      "40\n",
      "41\n",
      "42\n",
      "43\n",
      "44\n",
      "45\n",
      "46\n",
      "47\n",
      "48\n",
      "49\n",
      "50\n",
      "51\n",
      "52\n",
      "53\n",
      "54\n",
      "55\n",
      "56\n",
      "57\n",
      "58\n",
      "59\n",
      "60\n",
      "61\n",
      "62\n",
      "63\n",
      "64\n",
      "65\n",
      "66\n",
      "67\n",
      "68\n",
      "69\n",
      "70\n",
      "71\n",
      "72\n",
      "73\n",
      "74\n",
      "75\n",
      "76\n",
      "77\n",
      "78\n",
      "79\n",
      "80\n",
      "81\n",
      "82\n",
      "83\n",
      "84\n",
      "85\n",
      "86\n",
      "87\n",
      "88\n",
      "89\n",
      "90\n",
      "91\n",
      "92\n",
      "93\n",
      "94\n",
      "95\n",
      "96\n",
      "97\n",
      "98\n",
      "99\n",
      "100\n"
     ]
    }
   ],
   "source": [
    "alist = range(1, 101)\n",
    "for i in alist:\n",
    "    print(i)"
   ]
  },
  {
   "cell_type": "markdown",
   "id": "9748b7e6",
   "metadata": {},
   "source": [
    "# 로또 자동번호 생성기"
   ]
  },
  {
   "cell_type": "code",
   "execution_count": 13,
   "id": "a166888f",
   "metadata": {},
   "outputs": [
    {
     "data": {
      "text/plain": [
       "[35, 43, 12, 36, 44]"
      ]
     },
     "execution_count": 13,
     "metadata": {},
     "output_type": "execute_result"
    }
   ],
   "source": [
    "alist = range(1, 46)\n",
    "random.sample(alist, 5)"
   ]
  },
  {
   "cell_type": "markdown",
   "id": "1ba6aa1d",
   "metadata": {},
   "source": [
    "---\n",
    "# 관계연산자\n"
   ]
  },
  {
   "cell_type": "code",
   "execution_count": 14,
   "id": "49744f47",
   "metadata": {},
   "outputs": [],
   "source": [
    "num1 = 100\n",
    "num2 = 20"
   ]
  },
  {
   "cell_type": "code",
   "execution_count": 15,
   "id": "ca0488d1",
   "metadata": {},
   "outputs": [
    {
     "name": "stdout",
     "output_type": "stream",
     "text": [
      "False\n",
      "True\n"
     ]
    }
   ],
   "source": [
    "#동등비교\n",
    "print (num1 == num2)\n",
    "print (num1 != num2)"
   ]
  },
  {
   "cell_type": "code",
   "execution_count": 19,
   "id": "aeb77a05",
   "metadata": {},
   "outputs": [
    {
     "name": "stdout",
     "output_type": "stream",
     "text": [
      "True\n",
      "False\n",
      "True\n",
      "False\n"
     ]
    }
   ],
   "source": [
    "#대소 비교\n",
    "print (num1 > num2)\n",
    "print (num1 < num2)\n",
    "print (num1 >= num2)\n",
    "print (num1 <= num2)"
   ]
  },
  {
   "cell_type": "markdown",
   "id": "f461fc81",
   "metadata": {},
   "source": [
    "# 논리연산자"
   ]
  },
  {
   "cell_type": "code",
   "execution_count": 21,
   "id": "b39a6eac",
   "metadata": {},
   "outputs": [
    {
     "name": "stdout",
     "output_type": "stream",
     "text": [
      "False\n",
      "True\n"
     ]
    }
   ],
   "source": [
    "# and, or\n",
    "print ((num1 >= 50) & (num2 <= 10))\n",
    "print ((num1 >= 50) | (num2 <= 10))"
   ]
  },
  {
   "cell_type": "code",
   "execution_count": 25,
   "id": "9b1649cd",
   "metadata": {},
   "outputs": [
    {
     "data": {
      "text/plain": [
       "False"
      ]
     },
     "execution_count": 25,
     "metadata": {},
     "output_type": "execute_result"
    }
   ],
   "source": [
    "# 부정 연산지\n",
    "not(num1 >= 50)"
   ]
  },
  {
   "cell_type": "markdown",
   "id": "dcc99b0b",
   "metadata": {},
   "source": [
    "---\n",
    "# 문자열 자료형\n",
    "### '와 ''의 구분이 없다"
   ]
  },
  {
   "cell_type": "code",
   "execution_count": 26,
   "id": "e1cac0f1",
   "metadata": {},
   "outputs": [
    {
     "data": {
      "text/plain": [
       "'Hello World!'"
      ]
     },
     "execution_count": 26,
     "metadata": {},
     "output_type": "execute_result"
    }
   ],
   "source": [
    "var01 = \"Hello World!\"\n",
    "var01"
   ]
  },
  {
   "cell_type": "code",
   "execution_count": 29,
   "id": "deeebbed",
   "metadata": {},
   "outputs": [
    {
     "name": "stdout",
     "output_type": "stream",
     "text": [
      "\n",
      "Hello World!\n",
      "Goot to meet you\n",
      "\n"
     ]
    }
   ],
   "source": [
    "#여러줄의 문자열 출력\n",
    "var01 = \"\"\"\n",
    "Hello World!\n",
    "Goot to meet you\n",
    "\"\"\"\n",
    "\n",
    "print(var01)"
   ]
  },
  {
   "cell_type": "code",
   "execution_count": 32,
   "id": "2e17cd11",
   "metadata": {},
   "outputs": [
    {
     "name": "stdout",
     "output_type": "stream",
     "text": [
      "My father's wife is my mother.\n",
      "He says \"i love you\" \n"
     ]
    }
   ],
   "source": [
    "#쌍따옴표와 홀따옴표의 사용\n",
    "var01 = \"My father's wife is my mother.\"\n",
    "var02 = 'He says \"i love you\" '\n",
    "print(var01)\n",
    "print(var02)"
   ]
  },
  {
   "cell_type": "code",
   "execution_count": 34,
   "id": "feae9dca",
   "metadata": {},
   "outputs": [
    {
     "name": "stdout",
     "output_type": "stream",
     "text": [
      "aaa\n",
      "bbb\n",
      "aaa\tbbb\n"
     ]
    }
   ],
   "source": [
    "#특수문자를 사용한 출력\n",
    "var03 = 'aaa\\nbbb'\n",
    "var04 = 'aaa\\tbbb'\n",
    "print(var03)\n",
    "print(var04)"
   ]
  },
  {
   "cell_type": "markdown",
   "id": "a0042feb",
   "metadata": {},
   "source": [
    "---\n",
    "# 얼마나 놓쳤을까?\n",
    "---"
   ]
  },
  {
   "cell_type": "code",
   "execution_count": 35,
   "id": "1e15e6f5",
   "metadata": {},
   "outputs": [
    {
     "name": "stdout",
     "output_type": "stream",
     "text": [
      "a\n",
      "abc\n",
      "n\n",
      "fghilmn\n",
      "abcde\n"
     ]
    }
   ],
   "source": [
    "#문자열 indexing과 slicing\n",
    "str = \"abcdefghilmn\"\n",
    "\n",
    "print(str[0])\n",
    "print(str[0:3])\n",
    "print(str[-1])\n",
    "print(str[5:])\n",
    "print(str[:5])\n",
    "\n",
    "# fghiksl <- [_:-_]\n"
   ]
  },
  {
   "cell_type": "code",
   "execution_count": 41,
   "id": "985c8a88",
   "metadata": {},
   "outputs": [
    {
     "name": "stdout",
     "output_type": "stream",
     "text": [
      "2021 - 12 - 31\n",
      "2021 - 12 - 31\n"
     ]
    }
   ],
   "source": [
    "str = \"20211231\"\n",
    "\n",
    "#2021-12-3 으로 출력하기\n",
    "year = str[:4]\n",
    "month = str[len(year):len(year)+2]\n",
    "date = str[-2:]\n",
    "\n",
    "print(str[0:4], '-', str[4:6], '-', str[6:8])\n",
    "print(year, '-' ,month, '-', date)"
   ]
  },
  {
   "cell_type": "code",
   "execution_count": 44,
   "id": "459666ed",
   "metadata": {},
   "outputs": [
    {
     "name": "stdout",
     "output_type": "stream",
     "text": [
      "202C1231\n"
     ]
    }
   ],
   "source": [
    "#202C1231 로 출략하기 : string은 immutable type이라 수정할 수 없습니다\n",
    "str2 = str[:3] + 'C' + str[4:]\n",
    "print(str2)"
   ]
  },
  {
   "cell_type": "markdown",
   "id": "3e8d0bf6",
   "metadata": {},
   "source": [
    "---\n",
    "# 문자열 관련 함수"
   ]
  },
  {
   "cell_type": "code",
   "execution_count": 48,
   "id": "d0e6f414",
   "metadata": {},
   "outputs": [
    {
     "name": "stdout",
     "output_type": "stream",
     "text": [
      "3\n",
      "15\n"
     ]
    }
   ],
   "source": [
    "#문자 Count\n",
    "str = 'I have a dream.'\n",
    "\n",
    "print(str.count('a')) # a 글자의 개수\n",
    "print(len(str))"
   ]
  },
  {
   "cell_type": "code",
   "execution_count": 50,
   "id": "701f99fd",
   "metadata": {},
   "outputs": [
    {
     "name": "stdout",
     "output_type": "stream",
     "text": [
      "5\n",
      "-1\n"
     ]
    }
   ],
   "source": [
    "#문자 위치 알려주기\n",
    "print(str.find('e'))\n",
    "print(str.find('z')) #없다면 -1"
   ]
  },
  {
   "cell_type": "code",
   "execution_count": 51,
   "id": "29384a5b",
   "metadata": {},
   "outputs": [
    {
     "data": {
      "text/plain": [
       "'a,b,c,d,e,f,g'"
      ]
     },
     "execution_count": 51,
     "metadata": {},
     "output_type": "execute_result"
    }
   ],
   "source": [
    "#문자열 삽입\n",
    "str = ','\n",
    "str.join('abcdefg')"
   ]
  },
  {
   "cell_type": "code",
   "execution_count": 54,
   "id": "ba835307",
   "metadata": {},
   "outputs": [
    {
     "data": {
      "text/plain": [
       "'HI'"
      ]
     },
     "execution_count": 54,
     "metadata": {},
     "output_type": "execute_result"
    }
   ],
   "source": [
    "#소문자 -> 대문자\n",
    "str = 'hi'\n",
    "str.upper()\n",
    "'hi'.upper()\n"
   ]
  },
  {
   "cell_type": "code",
   "execution_count": 57,
   "id": "36ac177a",
   "metadata": {},
   "outputs": [
    {
     "data": {
      "text/plain": [
       "'hi'"
      ]
     },
     "execution_count": 57,
     "metadata": {},
     "output_type": "execute_result"
    }
   ],
   "source": [
    "#대문자 -> 소문자\n",
    "str = 'HI'\n",
    "str.lower()\n",
    "'HI'.lower()"
   ]
  },
  {
   "cell_type": "code",
   "execution_count": 58,
   "id": "f20cbff1",
   "metadata": {},
   "outputs": [
    {
     "data": {
      "text/plain": [
       "'hi'"
      ]
     },
     "execution_count": 58,
     "metadata": {},
     "output_type": "execute_result"
    }
   ],
   "source": [
    "#왼쪽 공백 줄이기\n",
    "str = '             hi'\n",
    "str.lstrip()"
   ]
  },
  {
   "cell_type": "code",
   "execution_count": 59,
   "id": "9cbbecfb",
   "metadata": {},
   "outputs": [
    {
     "data": {
      "text/plain": [
       "'hi'"
      ]
     },
     "execution_count": 59,
     "metadata": {},
     "output_type": "execute_result"
    }
   ],
   "source": [
    "#오른쪽 공백 줄이기\n",
    "str = 'hi                 '\n",
    "str.rstrip()"
   ]
  },
  {
   "cell_type": "code",
   "execution_count": 61,
   "id": "606319c8",
   "metadata": {},
   "outputs": [
    {
     "data": {
      "text/plain": [
       "'hi'"
      ]
     },
     "execution_count": 61,
     "metadata": {},
     "output_type": "execute_result"
    }
   ],
   "source": [
    "#양쪽 공백 줄이기\n",
    "str = '           hi              '\n",
    "str.strip()"
   ]
  },
  {
   "cell_type": "code",
   "execution_count": 62,
   "id": "103759ef",
   "metadata": {},
   "outputs": [
    {
     "data": {
      "text/plain": [
       "'Life is to short to be unhappy'"
      ]
     },
     "execution_count": 62,
     "metadata": {},
     "output_type": "execute_result"
    }
   ],
   "source": [
    "#문자열 바꾸기\n",
    "str = \"Life is to short to be happy\"\n",
    "str.replace('happy', 'unhappy')"
   ]
  },
  {
   "cell_type": "code",
   "execution_count": 63,
   "id": "5816f2dc",
   "metadata": {},
   "outputs": [
    {
     "data": {
      "text/plain": [
       "'Life is to short to be happy'"
      ]
     },
     "execution_count": 63,
     "metadata": {},
     "output_type": "execute_result"
    }
   ],
   "source": [
    "#문자열 나누기\n",
    "str"
   ]
  },
  {
   "cell_type": "code",
   "execution_count": 67,
   "id": "6c7c2882",
   "metadata": {},
   "outputs": [
    {
     "name": "stdout",
     "output_type": "stream",
     "text": [
      "<class 'list'>\n",
      "['Life', 'is', 'to', 'short', 'to', 'be', 'happy']\n"
     ]
    }
   ],
   "source": [
    "list01 = str.split()\n",
    "print(type(list01))\n",
    "print(list01)"
   ]
  },
  {
   "cell_type": "code",
   "execution_count": 68,
   "id": "ecc52d4c",
   "metadata": {},
   "outputs": [
    {
     "name": "stdout",
     "output_type": "stream",
     "text": [
      "<class 'str'>\n"
     ]
    },
    {
     "data": {
      "text/plain": [
       "'2021'"
      ]
     },
     "execution_count": 68,
     "metadata": {},
     "output_type": "execute_result"
    }
   ],
   "source": [
    "str01 = '2021-12-31'\n",
    "print(type(str01))\n",
    "str01.split('-')[0]"
   ]
  },
  {
   "cell_type": "markdown",
   "id": "bb383e8e",
   "metadata": {},
   "source": [
    "---\n",
    "# 날짜형 변환"
   ]
  },
  {
   "cell_type": "code",
   "execution_count": 69,
   "id": "a2595541",
   "metadata": {},
   "outputs": [],
   "source": [
    "from datetime import datetime, timedelta #날자형 모듈 불러오기"
   ]
  },
  {
   "cell_type": "code",
   "execution_count": 82,
   "id": "022f1903",
   "metadata": {},
   "outputs": [
    {
     "name": "stdout",
     "output_type": "stream",
     "text": [
      "2021-12-31 12:00:00\n"
     ]
    }
   ],
   "source": [
    "time1 = datetime(2021, 12, 31, 12, 0, 0, 0)\n",
    "type(time1)\n",
    "print(time1)"
   ]
  },
  {
   "cell_type": "code",
   "execution_count": 83,
   "id": "d66a673f",
   "metadata": {},
   "outputs": [
    {
     "name": "stdout",
     "output_type": "stream",
     "text": [
      "174 days, 21:13:34.153444\n"
     ]
    }
   ],
   "source": [
    "#날자 계산하기\n",
    "time2 = datetime.now()\n",
    "print(time1 - time2)"
   ]
  },
  {
   "cell_type": "code",
   "execution_count": 85,
   "id": "e15ebbe1",
   "metadata": {},
   "outputs": [
    {
     "name": "stdout",
     "output_type": "stream",
     "text": [
      "두 날짜의 차이는\n",
      "174 일\n"
     ]
    }
   ],
   "source": [
    "#좀 더 편리하게 출력\n",
    "print('두 날짜의 차이는')\n",
    "print((time1 - time2).days, '일')"
   ]
  },
  {
   "cell_type": "code",
   "execution_count": 97,
   "id": "add19bcf",
   "metadata": {},
   "outputs": [
    {
     "name": "stdout",
     "output_type": "stream",
     "text": [
      "현재 시간부터 5일 뒤\n",
      "2021-07-14 14:46:25.846556\n",
      "현재 시간으로부터 5일 전\n",
      "2021-07-04 14:46:25.846556\n",
      "2021-07-10 12:46:25.846556\n"
     ]
    }
   ],
   "source": [
    "#특정 날짜로부터 시간 계산\n",
    "print('현재 시간부터 5일 뒤')\n",
    "print(time2 + timedelta(days = 5))\n",
    "print('현재 시간으로부터 5일 전')\n",
    "print(time2 + timedelta(days = -5))\n",
    "\n",
    "#현재 시간으로부터 1일뒤의 2시간 전\n",
    "print(time2 + timedelta(days = 1, hours = -2))"
   ]
  },
  {
   "cell_type": "code",
   "execution_count": null,
   "id": "e54db282",
   "metadata": {},
   "outputs": [],
   "source": []
  }
 ],
 "metadata": {
  "kernelspec": {
   "display_name": "Python 3",
   "language": "python",
   "name": "python3"
  },
  "language_info": {
   "codemirror_mode": {
    "name": "ipython",
    "version": 3
   },
   "file_extension": ".py",
   "mimetype": "text/x-python",
   "name": "python",
   "nbconvert_exporter": "python",
   "pygments_lexer": "ipython3",
   "version": "3.8.8"
  }
 },
 "nbformat": 4,
 "nbformat_minor": 5
}
