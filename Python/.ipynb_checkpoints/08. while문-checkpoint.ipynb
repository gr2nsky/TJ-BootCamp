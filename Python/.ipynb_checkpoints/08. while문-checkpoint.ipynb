{
 "cells": [
  {
   "cell_type": "code",
   "execution_count": 10,
   "id": "a86f4ca9",
   "metadata": {},
   "outputs": [
    {
     "name": "stdout",
     "output_type": "stream",
     "text": [
      "나무를 %d번 찍었습니다. 1\n",
      "나무를 %d번 찍었습니다. 2\n",
      "나무를 %d번 찍었습니다. 3\n",
      "나무를 %d번 찍었습니다. 4\n",
      "나무를 %d번 찍었습니다. 5\n",
      "나무를 %d번 찍었습니다. 6\n",
      "나무를 %d번 찍었습니다. 7\n",
      "나무를 %d번 찍었습니다. 8\n",
      "나무를 %d번 찍었습니다. 9\n",
      "나무를 %d번 찍었습니다. 10\n",
      "나무가 넘어갑니다.\n"
     ]
    }
   ],
   "source": [
    "treeHit = 0\n",
    "while treeHit < 10:\n",
    "    treeHit += 1\n",
    "    print(\"나무를 %d번 찍었습니다.\", treeHit)\n",
    "    if(treeHit == 10):\n",
    "        print(\"나무가 넘어갑니다.\")"
   ]
  },
  {
   "cell_type": "code",
   "execution_count": 11,
   "id": "86640e6e",
   "metadata": {},
   "outputs": [],
   "source": [
    "prompt = \"\"\"\n",
    "    1. 덧셈\n",
    "    2. 뺄셈\n",
    "    3. 곱셈\n",
    "    4. 나눗셈\n",
    "    5. 종료\n",
    "    \n",
    "    숫자를 입력하세요 !\n",
    "\"\"\""
   ]
  },
  {
   "cell_type": "code",
   "execution_count": 13,
   "id": "da4b1a58",
   "metadata": {},
   "outputs": [
    {
     "name": "stdout",
     "output_type": "stream",
     "text": [
      "\n",
      "    1. 덧셈\n",
      "    2. 뺄셈\n",
      "    3. 곱셈\n",
      "    4. 나눗셈\n",
      "    5. 종료\n",
      "    \n",
      "    숫자를 입력하세요 !\n",
      "\n",
      "1\n",
      "\n",
      "    1. 덧셈\n",
      "    2. 뺄셈\n",
      "    3. 곱셈\n",
      "    4. 나눗셈\n",
      "    5. 종료\n",
      "    \n",
      "    숫자를 입력하세요 !\n",
      "\n",
      "5\n"
     ]
    }
   ],
   "source": [
    "number = 0\n",
    "while number != 5:\n",
    "    print(prompt)\n",
    "    number = int(input())"
   ]
  },
  {
   "cell_type": "code",
   "execution_count": 14,
   "id": "172c8186",
   "metadata": {},
   "outputs": [
    {
     "name": "stdout",
     "output_type": "stream",
     "text": [
      "0\n",
      "1\n",
      "2\n",
      "3\n",
      "4\n"
     ]
    }
   ],
   "source": [
    "# break문을 사용하여 var가 5일 경우 while문 빠져 나가기\n",
    "var = 0\n",
    "while var <10:\n",
    "    print(var)\n",
    "    var += 1\n",
    "    if var == 5:\n",
    "        break"
   ]
  },
  {
   "cell_type": "code",
   "execution_count": 16,
   "id": "0c4eb6eb",
   "metadata": {},
   "outputs": [
    {
     "name": "stdout",
     "output_type": "stream",
     "text": [
      "1\n",
      "2\n",
      "3\n",
      "4\n",
      "6\n",
      "7\n",
      "8\n",
      "9\n",
      "10\n"
     ]
    }
   ],
   "source": [
    "#continue ; 10보다 작은 수 중, 5인 경우에만 출력 안하고 나머지 숫자는 출력하기\n",
    "var = 0\n",
    "while var < 10:\n",
    "    var += 1\n",
    "    if var == 5:\n",
    "        continue\n",
    "    print(var)"
   ]
  },
  {
   "cell_type": "code",
   "execution_count": 18,
   "id": "404f035e",
   "metadata": {},
   "outputs": [
    {
     "name": "stdout",
     "output_type": "stream",
     "text": [
      "1\n",
      "3\n",
      "5\n",
      "7\n",
      "9\n"
     ]
    }
   ],
   "source": [
    "#contibue 사용해 1-10중 홀수만 출력하기\n",
    "var = 0\n",
    "while var < 10:\n",
    "    var += 1\n",
    "    if var % 2 == 0:\n",
    "        continue\n",
    "    print(var)"
   ]
  },
  {
   "cell_type": "code",
   "execution_count": 20,
   "id": "e696f68a",
   "metadata": {},
   "outputs": [
    {
     "name": "stdout",
     "output_type": "stream",
     "text": [
      "노력\n",
      "우수\n",
      "우수\n",
      "노력\n"
     ]
    }
   ],
   "source": [
    "#점수가 80점 이상이면 우수, 나머지는 노력으로 출력\n",
    "\n",
    "scores = [78, 85, 95, 65]\n",
    "var = 0\n",
    "while var < len(scores):\n",
    "    score = scores[var]\n",
    "    if score >= 80:\n",
    "        print(\"우수\")\n",
    "    else:\n",
    "        print(\"노력\")\n",
    "    var += 1"
   ]
  },
  {
   "cell_type": "code",
   "execution_count": 21,
   "id": "ade3ba4d",
   "metadata": {},
   "outputs": [
    {
     "name": "stdout",
     "output_type": "stream",
     "text": [
      "노력\n",
      "우수\n",
      "우수\n",
      "노력\n"
     ]
    }
   ],
   "source": [
    "scores = [78, 85, 95, 65]\n",
    "var = 0\n",
    "while scores:\n",
    "    score = scores.pop(var)\n",
    "    if score >=80:\n",
    "        print(\"우수\")\n",
    "    else:\n",
    "        print(\"노력\")"
   ]
  },
  {
   "cell_type": "code",
   "execution_count": 23,
   "id": "8fb1ff9a",
   "metadata": {},
   "outputs": [
    {
     "name": "stdout",
     "output_type": "stream",
     "text": [
      "80.75\n"
     ]
    }
   ],
   "source": [
    "scores = [78, 85, 95, 65]\n",
    "\n",
    "list_length = len(scores)\n",
    "total = 0\n",
    "\n",
    "while scores:\n",
    "    total += scores.pop()\n",
    "    \n",
    "print(total / list_length)"
   ]
  },
  {
   "cell_type": "code",
   "execution_count": 24,
   "id": "dc4c4343",
   "metadata": {},
   "outputs": [],
   "source": [
    "import numpy as np"
   ]
  },
  {
   "cell_type": "code",
   "execution_count": 25,
   "id": "548061a4",
   "metadata": {},
   "outputs": [
    {
     "data": {
      "text/plain": [
       "80.75"
      ]
     },
     "execution_count": 25,
     "metadata": {},
     "output_type": "execute_result"
    }
   ],
   "source": [
    "#평균 구하기\n",
    "scores = [78, 85, 95, 65]\n",
    "np.mean(scores)"
   ]
  },
  {
   "cell_type": "code",
   "execution_count": 30,
   "id": "d0c84339",
   "metadata": {},
   "outputs": [
    {
     "name": "stdout",
     "output_type": "stream",
     "text": [
      "80.75\n",
      "119.1875\n"
     ]
    },
    {
     "data": {
      "text/plain": [
       "10.917302780449024"
      ]
     },
     "execution_count": 30,
     "metadata": {},
     "output_type": "execute_result"
    }
   ],
   "source": [
    "#표준편차 구하기\n",
    "scores = [78, 85, 95, 65]\n",
    "\n",
    "#평균 구하기\n",
    "total = 0\n",
    "var = 0\n",
    "\n",
    "while var < len(scores):\n",
    "    total += scores[var]\n",
    "    var += 1\n",
    "    \n",
    "avg = total / len(scores)\n",
    "print (avg)\n",
    "\n",
    "#각 데이터와 평균의 차이의 제곱의 합의 평균 구하기\n",
    "\n",
    "total = 0 \n",
    "var = 0\n",
    "\n",
    "while var < len(scores):\n",
    "    total += (scores[var] - avg) ** 2\n",
    "    var += 1\n",
    "avg = total / len(scores)\n",
    "print(avg)\n",
    "\n",
    "# 위의 계산값에 제곱근 구하기\n",
    "import math\n",
    "math.sqrt(avg)"
   ]
  },
  {
   "cell_type": "code",
   "execution_count": 31,
   "id": "ac8a5b33",
   "metadata": {},
   "outputs": [
    {
     "data": {
      "text/plain": [
       "10.917302780449024"
      ]
     },
     "execution_count": 31,
     "metadata": {},
     "output_type": "execute_result"
    }
   ],
   "source": [
    "scores = [78, 85, 95, 65]\n",
    "np.std(scores)"
   ]
  },
  {
   "cell_type": "code",
   "execution_count": null,
   "id": "3439e19b",
   "metadata": {},
   "outputs": [],
   "source": []
  }
 ],
 "metadata": {
  "kernelspec": {
   "display_name": "Python 3",
   "language": "python",
   "name": "python3"
  },
  "language_info": {
   "codemirror_mode": {
    "name": "ipython",
    "version": 3
   },
   "file_extension": ".py",
   "mimetype": "text/x-python",
   "name": "python",
   "nbconvert_exporter": "python",
   "pygments_lexer": "ipython3",
   "version": "3.8.8"
  }
 },
 "nbformat": 4,
 "nbformat_minor": 5
}
