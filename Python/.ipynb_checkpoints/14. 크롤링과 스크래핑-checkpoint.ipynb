{
 "cells": [
  {
   "cell_type": "markdown",
   "id": "9b021062",
   "metadata": {},
   "source": [
    "# 데이터 다운로드 하기\n",
    ": 인터넷에서 지정된 파일을 내 PC에 저장하기"
   ]
  },
  {
   "cell_type": "code",
   "execution_count": 1,
   "id": "13fe36fd",
   "metadata": {},
   "outputs": [
    {
     "name": "stdout",
     "output_type": "stream",
     "text": [
      "저장 완료\n"
     ]
    }
   ],
   "source": [
    "#library\n",
    "import urllib.request\n",
    "\n",
    "#URL과 저장경로 지정\n",
    "url = \"http://uta.pw/shodou/img/28/214.png\"\n",
    "savename = \"./Data/test.png\"\n",
    "\n",
    "#다운로드 하기\n",
    "urllib.request.urlretrieve(url, savename)\n",
    "print(\"저장 완료\")"
   ]
  },
  {
   "cell_type": "code",
   "execution_count": 2,
   "id": "d5909d24",
   "metadata": {},
   "outputs": [
    {
     "ename": "TypeError",
     "evalue": "a bytes-like object is required, not 'method'",
     "output_type": "error",
     "traceback": [
      "\u001b[0;31m---------------------------------------------------------------------------\u001b[0m",
      "\u001b[0;31mTypeError\u001b[0m                                 Traceback (most recent call last)",
      "\u001b[0;32m<ipython-input-2-596674c58e65>\u001b[0m in \u001b[0;36m<module>\u001b[0;34m\u001b[0m\n\u001b[1;32m     10\u001b[0m \u001b[0;31m#파일로 저장하기\u001b[0m\u001b[0;34m\u001b[0m\u001b[0;34m\u001b[0m\u001b[0;34m\u001b[0m\u001b[0m\n\u001b[1;32m     11\u001b[0m \u001b[0;32mwith\u001b[0m \u001b[0mopen\u001b[0m\u001b[0;34m(\u001b[0m\u001b[0msavename\u001b[0m\u001b[0;34m,\u001b[0m \u001b[0;34m\"wb\"\u001b[0m\u001b[0;34m)\u001b[0m \u001b[0;32mas\u001b[0m \u001b[0mf\u001b[0m\u001b[0;34m:\u001b[0m\u001b[0;34m\u001b[0m\u001b[0;34m\u001b[0m\u001b[0m\n\u001b[0;32m---> 12\u001b[0;31m     \u001b[0mf\u001b[0m\u001b[0;34m.\u001b[0m\u001b[0mwrite\u001b[0m\u001b[0;34m(\u001b[0m\u001b[0mmem\u001b[0m\u001b[0;34m)\u001b[0m\u001b[0;34m\u001b[0m\u001b[0;34m\u001b[0m\u001b[0m\n\u001b[0m\u001b[1;32m     13\u001b[0m \u001b[0mprint\u001b[0m\u001b[0;34m(\u001b[0m\u001b[0;34m\"저장완료\"\u001b[0m\u001b[0;34m)\u001b[0m\u001b[0;34m\u001b[0m\u001b[0;34m\u001b[0m\u001b[0m\n",
      "\u001b[0;31mTypeError\u001b[0m: a bytes-like object is required, not 'method'"
     ]
    }
   ],
   "source": [
    "#library\n",
    "import urllib.request\n",
    "\n",
    "#URL과 저장경로 지정\n",
    "url = \"http://uta.pw/shodou/img/28/214.png\"\n",
    "savename = \"./Data/test1.png\"\n",
    "\n",
    "#다운로드 하기\n",
    "mem = urllib.request.urlopen(url).read\n",
    "#파일로 저장하기\n",
    "with open(savename, \"wb\") as f:\n",
    "    f.write(mem)\n",
    "print(\"저장완료\")"
   ]
  },
  {
   "cell_type": "markdown",
   "id": "f8842af7",
   "metadata": {},
   "source": [
    "# BeatifulSoup로 Scaraping 하기\n",
    ": 간단하게 HTML과 MXL에서 정보를 추출"
   ]
  },
  {
   "cell_type": "code",
   "execution_count": 10,
   "id": "217e2768",
   "metadata": {},
   "outputs": [
    {
     "name": "stdout",
     "output_type": "stream",
     "text": [
      "Requirement already satisfied: beautifulsoup4 in ./opt/anaconda3/lib/python3.8/site-packages (4.9.3)\n",
      "Requirement already satisfied: soupsieve>1.2 in ./opt/anaconda3/lib/python3.8/site-packages (from beautifulsoup4) (2.2.1)\n"
     ]
    }
   ],
   "source": [
    "!pip install beautifulsoup4"
   ]
  },
  {
   "cell_type": "code",
   "execution_count": 11,
   "id": "07e2f079",
   "metadata": {},
   "outputs": [
    {
     "name": "stdout",
     "output_type": "stream",
     "text": [
      "14. 크롤링과 스크래핑.ipynb         \u001b[34mMusic\u001b[m\u001b[m\r\n",
      "\u001b[34mApplications\u001b[m\u001b[m                        \u001b[34mPictures\u001b[m\u001b[m\r\n",
      "\u001b[34mDesktop\u001b[m\u001b[m                             \u001b[34mPublic\u001b[m\u001b[m\r\n",
      "\u001b[34mDocuments\u001b[m\u001b[m                           \u001b[34mdumps\u001b[m\u001b[m\r\n",
      "\u001b[34mDownloads\u001b[m\u001b[m                           \u001b[34miCloud Drive(아카이브)\u001b[m\u001b[m\r\n",
      "\u001b[34mLibrary\u001b[m\u001b[m                             \u001b[34mopt\u001b[m\u001b[m\r\n",
      "\u001b[34mMovies\u001b[m\u001b[m                              \u001b[34m무제 폴더\u001b[m\u001b[m\r\n"
     ]
    }
   ],
   "source": [
    "#기본 사용법\n",
    "from bs4 import BeautifulSoup\n",
    "#HTML Sample\n",
    "html = \"\"\"\n",
    "    <html>\n",
    "        <body>\n",
    "            <h1>Header</h1>\n",
    "            <p>Line 1을 서술<p>\n",
    "        </body>\n",
    "    </html>\n",
    "\"\"\"\n",
    "#원하는 부분 추출하기\n"
   ]
  },
  {
   "cell_type": "code",
   "execution_count": null,
   "id": "e248b858",
   "metadata": {},
   "outputs": [],
   "source": []
  }
 ],
 "metadata": {
  "kernelspec": {
   "display_name": "Python 3",
   "language": "python",
   "name": "python3"
  },
  "language_info": {
   "codemirror_mode": {
    "name": "ipython",
    "version": 3
   },
   "file_extension": ".py",
   "mimetype": "text/x-python",
   "name": "python",
   "nbconvert_exporter": "python",
   "pygments_lexer": "ipython3",
   "version": "3.8.8"
  }
 },
 "nbformat": 4,
 "nbformat_minor": 5
}
