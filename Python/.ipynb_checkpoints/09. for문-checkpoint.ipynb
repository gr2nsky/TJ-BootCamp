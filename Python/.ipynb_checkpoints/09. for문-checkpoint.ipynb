{
 "cells": [
  {
   "cell_type": "markdown",
   "id": "9fa07d5d",
   "metadata": {},
   "source": [
    "# range 함수\n",
    "range(시작숫자, 끝숫자, 증가값)"
   ]
  },
  {
   "cell_type": "code",
   "execution_count": 1,
   "id": "fe4d9806",
   "metadata": {},
   "outputs": [
    {
     "data": {
      "text/plain": [
       "range(1, 11)"
      ]
     },
     "execution_count": 1,
     "metadata": {},
     "output_type": "execute_result"
    }
   ],
   "source": [
    "var = range(1, 11)\n",
    "var"
   ]
  },
  {
   "cell_type": "code",
   "execution_count": 2,
   "id": "9d536895",
   "metadata": {},
   "outputs": [
    {
     "data": {
      "text/plain": [
       "[1, 2, 3, 4, 5, 6, 7, 8, 9, 10]"
      ]
     },
     "execution_count": 2,
     "metadata": {},
     "output_type": "execute_result"
    }
   ],
   "source": [
    "#range의 범위를 list로 출력\n",
    "list(range(1, 11))"
   ]
  },
  {
   "cell_type": "code",
   "execution_count": 3,
   "id": "a42f9567",
   "metadata": {},
   "outputs": [
    {
     "data": {
      "text/plain": [
       "[0, 2, 4, 6, 8, 10]"
      ]
     },
     "execution_count": 3,
     "metadata": {},
     "output_type": "execute_result"
    }
   ],
   "source": [
    "list(range(0, 11, 2))"
   ]
  },
  {
   "cell_type": "code",
   "execution_count": 4,
   "id": "871b9efd",
   "metadata": {},
   "outputs": [
    {
     "data": {
      "text/plain": [
       "[10, 8, 6, 4, 2]"
      ]
     },
     "execution_count": 4,
     "metadata": {},
     "output_type": "execute_result"
    }
   ],
   "source": [
    "list(range(10, 0, -2))"
   ]
  },
  {
   "cell_type": "code",
   "execution_count": 5,
   "id": "032f6e0d",
   "metadata": {},
   "outputs": [
    {
     "data": {
      "text/plain": [
       "range(8, 10)"
      ]
     },
     "execution_count": 5,
     "metadata": {},
     "output_type": "execute_result"
    }
   ],
   "source": [
    "var[9]"
   ]
  },
  {
   "cell_type": "code",
   "execution_count": 6,
   "id": "61251015",
   "metadata": {},
   "outputs": [
    {
     "data": {
      "text/plain": [
       "range(8, 10)"
      ]
     },
     "execution_count": 6,
     "metadata": {},
     "output_type": "execute_result"
    }
   ],
   "source": [
    "var[7:9]"
   ]
  },
  {
   "cell_type": "code",
   "execution_count": 13,
   "id": "9e9bdec5",
   "metadata": {},
   "outputs": [
    {
     "data": {
      "text/plain": [
       "range"
      ]
     },
     "execution_count": 13,
     "metadata": {},
     "output_type": "execute_result"
    }
   ],
   "source": [
    "type(var)"
   ]
  },
  {
   "cell_type": "code",
   "execution_count": 14,
   "id": "3ee35ca3",
   "metadata": {},
   "outputs": [
    {
     "name": "stdout",
     "output_type": "stream",
     "text": [
      "1\n",
      "3\n",
      "5\n",
      "7\n",
      "9\n"
     ]
    }
   ],
   "source": [
    "#1부터 10까지의 수 중 홀수만 출력하기\n",
    "\n",
    "for i in range(1, 11, 2):\n",
    "    print(i)"
   ]
  },
  {
   "cell_type": "code",
   "execution_count": 15,
   "id": "f2fa9577",
   "metadata": {},
   "outputs": [
    {
     "name": "stdout",
     "output_type": "stream",
     "text": [
      "9 X 1 +  9\n",
      "9 X 2 + 18\n",
      "9 X 3 + 27\n",
      "9 X 4 + 36\n",
      "9 X 5 + 45\n",
      "9 X 6 + 54\n",
      "9 X 7 + 63\n",
      "9 X 8 + 72\n"
     ]
    }
   ],
   "source": [
    "#구구단 9단 출력\n",
    "i = 9\n",
    "for j in range(1, 10):\n",
    "    print(i, \"X\", j, '=', '%2d'%(i*j))"
   ]
  },
  {
   "cell_type": "code",
   "execution_count": 18,
   "id": "695ce784",
   "metadata": {},
   "outputs": [
    {
     "name": "stdout",
     "output_type": "stream",
     "text": [
      "2 4 6 8 10 12 14 16 18 \n",
      "3 6 9 12 15 18 21 24 27 \n",
      "4 8 12 16 20 24 28 32 36 \n",
      "5 10 15 20 25 30 35 40 45 \n",
      "6 12 18 24 30 36 42 48 54 \n",
      "7 14 21 28 35 42 49 56 63 \n",
      "8 16 24 32 40 48 56 64 72 \n",
      "9 18 27 36 45 54 63 72 81 \n"
     ]
    }
   ],
   "source": [
    "#구구단 결과만 출력하기\n",
    "for i in range(2, 10):\n",
    "    for j in range(1, 10):\n",
    "        print(i*j, end = ' ')\n",
    "    print()"
   ]
  },
  {
   "cell_type": "code",
   "execution_count": 22,
   "id": "66369b1f",
   "metadata": {},
   "outputs": [
    {
     "name": "stdout",
     "output_type": "stream",
     "text": [
      "80.75\n"
     ]
    }
   ],
   "source": [
    "#평균 구하기\n",
    "scores = [78, 85, 95, 65]\n",
    "total = 0\n",
    "\n",
    "for score in scores:\n",
    "    total += score\n",
    "print(total / len(scores))"
   ]
  },
  {
   "cell_type": "markdown",
   "id": "cc41c527",
   "metadata": {},
   "source": [
    "# For문에 Tuple 사용하기"
   ]
  },
  {
   "cell_type": "code",
   "execution_count": 23,
   "id": "3f7e48f6",
   "metadata": {},
   "outputs": [
    {
     "name": "stdout",
     "output_type": "stream",
     "text": [
      "1  :  2\n",
      "3  :  4\n",
      "5  :  6\n"
     ]
    }
   ],
   "source": [
    "var = [(1, 2), (3, 4), (5, 6)]\n",
    "for first, last in var:\n",
    "    print(first, \" : \", last)"
   ]
  },
  {
   "cell_type": "code",
   "execution_count": 24,
   "id": "eae3b301",
   "metadata": {},
   "outputs": [
    {
     "name": "stdout",
     "output_type": "stream",
     "text": [
      "21\n"
     ]
    }
   ],
   "source": [
    "sum1 = 0\n",
    "for first, last in var:\n",
    "    sum1 += first + last\n",
    "print(sum1)"
   ]
  },
  {
   "cell_type": "code",
   "execution_count": 26,
   "id": "ab729ca4",
   "metadata": {},
   "outputs": [],
   "source": [
    "#총 5명의 학생들이 시험을 보았는데, 시험점수가 60점을 넘으면 합격이고 그렇지 않으면 불합격이다.\n",
    "#합격, 불합격 결과 보여주기"
   ]
  },
  {
   "cell_type": "code",
   "execution_count": 32,
   "id": "c54c6675",
   "metadata": {},
   "outputs": [
    {
     "name": "stdout",
     "output_type": "stream",
     "text": [
      "1 의 학생은 합격 입니다.\n",
      "2 의 학생은 불합격 입니다.\n",
      "3 의 학생은 합격 입니다.\n",
      "4 의 학생은 불합격 입니다.\n",
      "5 의 학생은 합격 입니다.\n"
     ]
    }
   ],
   "source": [
    "scores = [90, 25, 67, 45, 80]\n",
    "for number in range(len(scores)):\n",
    "    result = \"\"\n",
    "    if scores[number] >= 60:\n",
    "        result = \"합격\"\n",
    "    else:\n",
    "        result = \"불합격\"\n",
    "    print(number + 1, \"의 학생은\", , result, \"입니다.\")\n",
    "    count += 1"
   ]
  },
  {
   "cell_type": "code",
   "execution_count": 33,
   "id": "b0c1611e",
   "metadata": {},
   "outputs": [
    {
     "ename": "SyntaxError",
     "evalue": "invalid syntax (<ipython-input-33-09877e98af2d>, line 4)",
     "output_type": "error",
     "traceback": [
      "\u001b[0;36m  File \u001b[0;32m\"<ipython-input-33-09877e98af2d>\"\u001b[0;36m, line \u001b[0;32m4\u001b[0m\n\u001b[0;31m    print(\"%d번째 학생은 점수가 %d여서 합격입니다.\", %number+1, %scores[number])\u001b[0m\n\u001b[0m                                      ^\u001b[0m\n\u001b[0;31mSyntaxError\u001b[0m\u001b[0;31m:\u001b[0m invalid syntax\n"
     ]
    }
   ],
   "source": [
    "scores = [90, 25, 67, 45, 80]\n",
    "for number in range(len(scores)):\n",
    "    if scores[number] >= 60:\n",
    "        print(\"%d번째 학생은 점수가 %d여서 합격입니다.\", %number+1, %scores[number])\n",
    "    else:\n",
    "        print(\"%d번째 학생은 점수가 %d여서 불합격입니다.\", %number+1, %scores[number])\n",
    "    count += 1"
   ]
  },
  {
   "cell_type": "code",
   "execution_count": 34,
   "id": "196945e3",
   "metadata": {},
   "outputs": [],
   "source": [
    "scores = [90, 25, 67, 45, 80]\n",
    "number = 1 #학생번호\n",
    "avg = 0.0 #평균점수\n",
    "total = 0 #학생들의 점수 총점"
   ]
  },
  {
   "cell_type": "code",
   "execution_count": 35,
   "id": "6af8b03e",
   "metadata": {},
   "outputs": [
    {
     "data": {
      "text/plain": [
       "61.4"
      ]
     },
     "execution_count": 35,
     "metadata": {},
     "output_type": "execute_result"
    }
   ],
   "source": [
    "import numpy as np\n",
    "np.mean(scores)"
   ]
  },
  {
   "cell_type": "code",
   "execution_count": 37,
   "id": "4ae5f81e",
   "metadata": {},
   "outputs": [
    {
     "data": {
      "text/plain": [
       "307"
      ]
     },
     "execution_count": 37,
     "metadata": {},
     "output_type": "execute_result"
    }
   ],
   "source": [
    "np.sum(scores)"
   ]
  },
  {
   "cell_type": "code",
   "execution_count": 39,
   "id": "5361cbd8",
   "metadata": {},
   "outputs": [
    {
     "name": "stdout",
     "output_type": "stream",
     "text": [
      "[5, 10, 15, 20]\n"
     ]
    }
   ],
   "source": [
    "var01 = [1,2,3,4]\n",
    "var02 = []\n",
    "for i in var01:\n",
    "    var02.append(i * 5)\n",
    "print(var02)"
   ]
  },
  {
   "cell_type": "code",
   "execution_count": 40,
   "id": "ef564cd7",
   "metadata": {},
   "outputs": [
    {
     "data": {
      "text/plain": [
       "[5, 10, 15, 20]"
      ]
     },
     "execution_count": 40,
     "metadata": {},
     "output_type": "execute_result"
    }
   ],
   "source": [
    "var01 = [1,2,3,4]\n",
    "var02 = []\n",
    "\n",
    "var02 = [i * 5 for i in var01]\n",
    "var02"
   ]
  },
  {
   "cell_type": "code",
   "execution_count": 43,
   "id": "b020328b",
   "metadata": {},
   "outputs": [
    {
     "data": {
      "text/plain": [
       "[10, 20]"
      ]
     },
     "execution_count": 43,
     "metadata": {},
     "output_type": "execute_result"
    }
   ],
   "source": [
    "#짝수만\n",
    "var01 = [1,2,3,4]\n",
    "var02 = []\n",
    "\n",
    "var02 = [ i * 5 for i in var01 if i % 2 == 0]\n",
    "var02"
   ]
  },
  {
   "cell_type": "code",
   "execution_count": 45,
   "id": "2a9c7b56",
   "metadata": {},
   "outputs": [
    {
     "name": "stdout",
     "output_type": "stream",
     "text": [
      "[2, 4, 6, 8, 10, 12, 14, 16, 18, 3, 6, 9, 12, 15, 18, 21, 24, 27, 4, 8, 12, 16, 20, 24, 28, 32, 36, 5, 10, 15, 20, 25, 30, 35, 40, 45, 6, 12, 18, 24, 30, 36, 42, 48, 54, 7, 14, 21, 28, 35, 42, 49, 56, 63, 8, 16, 24, 32, 40, 48, 56, 64, 72, 9, 18, 27, 36, 45, 54, 63, 72, 81]\n"
     ]
    }
   ],
   "source": [
    "# 구구단 결과만 리스트로 만들기 (2 ~ 9단)\n",
    "\n",
    "var = []\n",
    "\n",
    "var = [ i * j for i in range(2, 10) for j in range(1, 10)]\n",
    "print(var)"
   ]
  },
  {
   "cell_type": "code",
   "execution_count": 48,
   "id": "36fbf722",
   "metadata": {},
   "outputs": [
    {
     "name": "stdout",
     "output_type": "stream",
     "text": [
      "합격한 학생들의 평균 점수는 79.00입니다.\n"
     ]
    }
   ],
   "source": [
    "#60점 이상의 학생점수만 list로 만들어 평균 구하기\n",
    "scores = [90, 25, 67, 45, 80]\n",
    "passList = [i for i in scores if i >= 60]\n",
    "\n",
    "print(\"합격한 학생들의 평균 점수는 %.2f입니다.\" %np.mean(passList))"
   ]
  },
  {
   "cell_type": "code",
   "execution_count": null,
   "id": "55542369",
   "metadata": {},
   "outputs": [],
   "source": []
  }
 ],
 "metadata": {
  "kernelspec": {
   "display_name": "Python 3",
   "language": "python",
   "name": "python3"
  },
  "language_info": {
   "codemirror_mode": {
    "name": "ipython",
    "version": 3
   },
   "file_extension": ".py",
   "mimetype": "text/x-python",
   "name": "python",
   "nbconvert_exporter": "python",
   "pygments_lexer": "ipython3",
   "version": "3.8.8"
  }
 },
 "nbformat": 4,
 "nbformat_minor": 5
}
