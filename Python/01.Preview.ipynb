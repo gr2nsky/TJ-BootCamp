{
 "cells": [
  {
   "cell_type": "markdown",
   "id": "50777ded",
   "metadata": {},
   "source": [
    "# Python 기초\n",
    "## 사직연산"
   ]
  },
  {
   "cell_type": "code",
   "execution_count": 2,
   "id": "d3822adb",
   "metadata": {},
   "outputs": [
    {
     "data": {
      "text/plain": [
       "5"
      ]
     },
     "execution_count": 2,
     "metadata": {},
     "output_type": "execute_result"
    }
   ],
   "source": [
    "# 곱셈\n",
    "2 + 3"
   ]
  },
  {
   "cell_type": "code",
   "execution_count": 5,
   "id": "ed8c65ec",
   "metadata": {},
   "outputs": [
    {
     "data": {
      "text/plain": [
       "3"
      ]
     },
     "execution_count": 5,
     "metadata": {},
     "output_type": "execute_result"
    }
   ],
   "source": [
    "# 뺄셈\n",
    "4 - 1"
   ]
  },
  {
   "cell_type": "code",
   "execution_count": 6,
   "id": "984c6c0b",
   "metadata": {},
   "outputs": [
    {
     "data": {
      "text/plain": [
       "6"
      ]
     },
     "execution_count": 6,
     "metadata": {},
     "output_type": "execute_result"
    }
   ],
   "source": [
    "#곱셈\n",
    "2 * 3"
   ]
  },
  {
   "cell_type": "code",
   "execution_count": 8,
   "id": "b695d693",
   "metadata": {},
   "outputs": [
    {
     "data": {
      "text/plain": [
       "1.5"
      ]
     },
     "execution_count": 8,
     "metadata": {},
     "output_type": "execute_result"
    }
   ],
   "source": [
    "# 실수 나눗셈\n",
    "3 / 2"
   ]
  },
  {
   "cell_type": "code",
   "execution_count": 9,
   "id": "e12e1e2c",
   "metadata": {},
   "outputs": [
    {
     "data": {
      "text/plain": [
       "1"
      ]
     },
     "execution_count": 9,
     "metadata": {},
     "output_type": "execute_result"
    }
   ],
   "source": [
    "# 정수 나눗셈의 나머지\n",
    "5 % 2"
   ]
  },
  {
   "cell_type": "code",
   "execution_count": 10,
   "id": "169ccbbd",
   "metadata": {},
   "outputs": [
    {
     "data": {
      "text/plain": [
       "2"
      ]
     },
     "execution_count": 10,
     "metadata": {},
     "output_type": "execute_result"
    }
   ],
   "source": [
    "# 정수 나눗셈의 몫\n",
    "5 // 2"
   ]
  },
  {
   "cell_type": "markdown",
   "id": "78bdcc52",
   "metadata": {},
   "source": [
    "----\n",
    "## 변수에 대입하여 계산하기"
   ]
  },
  {
   "cell_type": "code",
   "execution_count": 14,
   "id": "be0d1d84",
   "metadata": {},
   "outputs": [
    {
     "data": {
      "text/plain": [
       "7.5"
      ]
     },
     "execution_count": 14,
     "metadata": {},
     "output_type": "execute_result"
    }
   ],
   "source": [
    "# 변수에 정수를 할당하여 계산하기\n",
    "var_1 = 2.5\n",
    "var_2 = 5\n",
    "var_1 + var_2"
   ]
  },
  {
   "cell_type": "code",
   "execution_count": 15,
   "id": "791fb963",
   "metadata": {},
   "outputs": [
    {
     "data": {
      "text/plain": [
       "'python'"
      ]
     },
     "execution_count": 15,
     "metadata": {},
     "output_type": "execute_result"
    }
   ],
   "source": [
    "# 동일한 변수에 문자열을 할당하여 출력하기\n",
    "var_1= 'python'\n",
    "var_1"
   ]
  },
  {
   "cell_type": "markdown",
   "id": "1dce06ea",
   "metadata": {},
   "source": [
    "# 변수의 자료형은 데이터형을 유츄하여 자료형이 변경된다\n",
    "----"
   ]
  },
  {
   "cell_type": "markdown",
   "id": "f20e3623",
   "metadata": {},
   "source": [
    "# 조건문"
   ]
  },
  {
   "cell_type": "code",
   "execution_count": 17,
   "id": "bed229db",
   "metadata": {},
   "outputs": [
    {
     "name": "stdout",
     "output_type": "stream",
     "text": [
      "var_1 is greater than 3\n"
     ]
    }
   ],
   "source": [
    "var_1 = 3\n",
    "if var_1 > 1:\n",
    "    print('var_1 is greater than 3')\n"
   ]
  },
  {
   "cell_type": "code",
   "execution_count": 19,
   "id": "f4372583",
   "metadata": {},
   "outputs": [
    {
     "name": "stdout",
     "output_type": "stream",
     "text": [
      "var_1 is greater than var_2\n"
     ]
    }
   ],
   "source": [
    "var_1 = 4\n",
    "var_2 = 3\n",
    "if var_1 > var_2 :\n",
    "    print('var_1 is greater than var_2')"
   ]
  },
  {
   "cell_type": "markdown",
   "id": "f1ce5fec",
   "metadata": {},
   "source": [
    "-----\n",
    "# 반복문"
   ]
  },
  {
   "cell_type": "code",
   "execution_count": 21,
   "id": "3910d740",
   "metadata": {},
   "outputs": [
    {
     "name": "stdout",
     "output_type": "stream",
     "text": [
      "10\n",
      "20\n",
      "30\n"
     ]
    }
   ],
   "source": [
    "for i in [10, 20, 30]:\n",
    "    print(i)"
   ]
  },
  {
   "cell_type": "code",
   "execution_count": 22,
   "id": "5838ff7c",
   "metadata": {},
   "outputs": [
    {
     "name": "stdout",
     "output_type": "stream",
     "text": [
      "10\n",
      "20\n",
      "30\n"
     ]
    }
   ],
   "source": [
    "i = 0\n",
    "while i < 30:\n",
    "    i += 10\n",
    "    print(i)"
   ]
  },
  {
   "cell_type": "markdown",
   "id": "c103e421",
   "metadata": {},
   "source": [
    "----\n",
    "# 함수"
   ]
  },
  {
   "cell_type": "code",
   "execution_count": 23,
   "id": "d6dc469e",
   "metadata": {},
   "outputs": [
    {
     "data": {
      "text/plain": [
       "30"
      ]
     },
     "execution_count": 23,
     "metadata": {},
     "output_type": "execute_result"
    }
   ],
   "source": [
    "def sumF(var01, var02):\n",
    "    return var01+var02\n",
    "sumF(10, 20)"
   ]
  },
  {
   "cell_type": "code",
   "execution_count": 24,
   "id": "0d39e512",
   "metadata": {},
   "outputs": [
    {
     "data": {
      "text/plain": [
       "'ab'"
      ]
     },
     "execution_count": 24,
     "metadata": {},
     "output_type": "execute_result"
    }
   ],
   "source": [
    "sumF('a', 'b')"
   ]
  },
  {
   "cell_type": "code",
   "execution_count": 25,
   "id": "2e27d342",
   "metadata": {},
   "outputs": [
    {
     "data": {
      "text/plain": [
       "110.2"
      ]
     },
     "execution_count": 25,
     "metadata": {},
     "output_type": "execute_result"
    }
   ],
   "source": [
    "sumF(10.2, 100)"
   ]
  },
  {
   "cell_type": "code",
   "execution_count": null,
   "id": "9c0f916f",
   "metadata": {},
   "outputs": [],
   "source": []
  }
 ],
 "metadata": {
  "kernelspec": {
   "display_name": "Python 3",
   "language": "python",
   "name": "python3"
  },
  "language_info": {
   "codemirror_mode": {
    "name": "ipython",
    "version": 3
   },
   "file_extension": ".py",
   "mimetype": "text/x-python",
   "name": "python",
   "nbconvert_exporter": "python",
   "pygments_lexer": "ipython3",
   "version": "3.8.8"
  }
 },
 "nbformat": 4,
 "nbformat_minor": 5
}
