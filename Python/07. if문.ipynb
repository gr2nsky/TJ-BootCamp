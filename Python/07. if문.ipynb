{
 "cells": [
  {
   "cell_type": "markdown",
   "id": "2bec3914",
   "metadata": {},
   "source": [
    "----\n",
    "\n",
    "# 얼마나 놓쳤을까\n",
    "\n",
    "----\n"
   ]
  },
  {
   "cell_type": "code",
   "execution_count": 2,
   "id": "529fcc3c",
   "metadata": {},
   "outputs": [
    {
     "name": "stdout",
     "output_type": "stream",
     "text": [
      "숫지를 입력하세요23\n",
      "23 는 홀수입니다.\n"
     ]
    }
   ],
   "source": [
    "#사용자로부터 숫자를 입력 받아 홀짝수 구분\n",
    "#ex)23은 홀수입니다.\n",
    "\n",
    "x = int(input(\"숫지를 입력하세요\"))\n",
    "\n",
    "if x % 2 == 0:\n",
    "    print(x,'은/는 짝수입니다.')\n",
    "else:\n",
    "    print(x,'은/는 홀수입니다.')"
   ]
  },
  {
   "cell_type": "code",
   "execution_count": 17,
   "id": "1bd1783e",
   "metadata": {},
   "outputs": [
    {
     "name": "stdout",
     "output_type": "stream",
     "text": [
      "성적을 입력하세요90\n",
      "점수는  90 점이고  A 학점입니다.\n"
     ]
    }
   ],
   "source": [
    "#사용자로부터 점수를 입력받아 학점 등급을 계산하여 출력하기\n",
    "#ex) 점수는 89점이고 B학점입니다.\n",
    "\n",
    "x = int(input(\"성적을 입력하세요\"))\n",
    "\n",
    "grade = ['A', 'B', 'C', 'D', 'E', 'F']\n",
    "standardScore = 90;\n",
    "for i in range(0, 5):\n",
    "    if standardScore <= x:\n",
    "        print('점수는 ', x, '점이고 ', grade[i], '학점입니다.')\n",
    "        break\n",
    "    else:\n",
    "        standardScore -= 10\n",
    "    \n",
    "    if i == 4:\n",
    "        print('점수는 ', x, '점이고 ', 'F학점입니다.')\n",
    "\n",
    "    "
   ]
  },
  {
   "cell_type": "code",
   "execution_count": null,
   "id": "e2cf8325",
   "metadata": {},
   "outputs": [],
   "source": []
  },
  {
   "cell_type": "code",
   "execution_count": null,
   "id": "b9f93fdc",
   "metadata": {},
   "outputs": [],
   "source": []
  },
  {
   "cell_type": "code",
   "execution_count": null,
   "id": "da77aef6",
   "metadata": {},
   "outputs": [],
   "source": []
  },
  {
   "cell_type": "code",
   "execution_count": null,
   "id": "61d54247",
   "metadata": {},
   "outputs": [],
   "source": []
  },
  {
   "cell_type": "code",
   "execution_count": null,
   "id": "a9f13645",
   "metadata": {},
   "outputs": [],
   "source": []
  },
  {
   "cell_type": "code",
   "execution_count": null,
   "id": "618b8336",
   "metadata": {},
   "outputs": [],
   "source": []
  }
 ],
 "metadata": {
  "kernelspec": {
   "display_name": "Python 3",
   "language": "python",
   "name": "python3"
  },
  "language_info": {
   "codemirror_mode": {
    "name": "ipython",
    "version": 3
   },
   "file_extension": ".py",
   "mimetype": "text/x-python",
   "name": "python",
   "nbconvert_exporter": "python",
   "pygments_lexer": "ipython3",
   "version": "3.8.8"
  }
 },
 "nbformat": 4,
 "nbformat_minor": 5
}
