{
 "cells": [
  {
   "cell_type": "code",
   "execution_count": 24,
   "id": "fbba13c4",
   "metadata": {},
   "outputs": [
    {
     "name": "stdout",
     "output_type": "stream",
     "text": [
      "https://movie.daum.net//moviedb/main?movieId=123215 : 블랙 위도우\n",
      "https://movie.daum.net//moviedb/main?movieId=138391 : 발신제한\n",
      "https://movie.daum.net//moviedb/main?movieId=108699 : 크루엘라\n",
      "https://movie.daum.net//moviedb/main?movieId=129982 : 콰이어트 플레이스 2\n",
      "https://movie.daum.net//moviedb/main?movieId=144859 : 랑종\n",
      "https://movie.daum.net//moviedb/main?movieId=143553 : 루카\n",
      "https://movie.daum.net//moviedb/main?movieId=130061 : 킬러의 보디가드 2\n",
      "https://movie.daum.net//moviedb/main?movieId=134928 : 미드나이트\n",
      "https://movie.daum.net//moviedb/main?movieId= : BIFAN2021 판타스틱 단편 걸작선 1\n",
      "https://movie.daum.net//moviedb/main?movieId=150872 : 괴기맨숀\n",
      "https://movie.daum.net//moviedb/main?movieId=130902 : 컨저링3: 악마가 시켰다\n",
      "https://movie.daum.net//moviedb/main?movieId=50636 : 인 더 하이츠\n",
      "https://movie.daum.net//moviedb/main?movieId=141190 : 빛나는 순간\n",
      "https://movie.daum.net//moviedb/main?movieId=150234 : 체르노빌 1986\n",
      "https://movie.daum.net//moviedb/main?movieId=149340 : 이번엔 잘 되겠지\n"
     ]
    }
   ],
   "source": [
    "#https://movie.daum.net/ranking/boxoffice/weekly\n",
    "\n",
    "from bs4 import BeautifulSoup\n",
    "from urllib.request import urlopen\n",
    "import pandas as pd\n",
    "\n",
    "#HTML\n",
    "url = \"https://movie.daum.net/ranking/boxoffice/weekly\"\n",
    "res = req.urlopen(url)\n",
    "\n",
    "#HTML 분석\n",
    "soup = BeautifulSoup(res, \"html.parser\")\n",
    "\n",
    "#데이터 추출하기\n",
    "datas = soup.select(\"strong.tit_item > a\")\n",
    "for data in datas:\n",
    "    print(\"https://movie.daum.net/\"+data.attrs['href'], \":\", data.string)"
   ]
  },
  {
   "cell_type": "markdown",
   "id": "f4ae02d3",
   "metadata": {},
   "source": [
    "# Test"
   ]
  },
  {
   "cell_type": "code",
   "execution_count": 25,
   "id": "f974c67e",
   "metadata": {},
   "outputs": [],
   "source": [
    "li_lists = soup.select(\"strong.tit_item > a\")\n",
    "count = 0\n",
    "titleLists = [] #영화제목\n",
    "countLists = [] #예매율\n",
    "\n",
    "for li in li_lists:\n",
    "    count += 1\n",
    "    countLists.append(count)\n",
    "    titleLists.append(li.string)"
   ]
  },
  {
   "cell_type": "code",
   "execution_count": 26,
   "id": "aa5958bb",
   "metadata": {},
   "outputs": [
    {
     "name": "stdout",
     "output_type": "stream",
     "text": [
      "[1, 2, 3, 4, 5, 6, 7, 8, 9, 10, 11, 12, 13, 14, 15]\n",
      "['블랙 위도우', '발신제한', '크루엘라', '콰이어트 플레이스 2', '랑종', '루카', '킬러의 보디가드 2', '미드나이트', 'BIFAN2021 판타스틱 단편 걸작선 1', '괴기맨숀', '컨저링3: 악마가 시켰다', '인 더 하이츠', '빛나는 순간', '체르노빌 1986', '이번엔 잘 되겠지']\n"
     ]
    }
   ],
   "source": [
    "#List 확인\n",
    "print(countLists)\n",
    "print(titleLists)"
   ]
  },
  {
   "cell_type": "code",
   "execution_count": 27,
   "id": "056db4f4",
   "metadata": {},
   "outputs": [
    {
     "data": {
      "text/html": [
       "<div>\n",
       "<style scoped>\n",
       "    .dataframe tbody tr th:only-of-type {\n",
       "        vertical-align: middle;\n",
       "    }\n",
       "\n",
       "    .dataframe tbody tr th {\n",
       "        vertical-align: top;\n",
       "    }\n",
       "\n",
       "    .dataframe thead th {\n",
       "        text-align: right;\n",
       "    }\n",
       "</style>\n",
       "<table border=\"1\" class=\"dataframe\">\n",
       "  <thead>\n",
       "    <tr style=\"text-align: right;\">\n",
       "      <th></th>\n",
       "      <th>Index</th>\n",
       "      <th>Titles</th>\n",
       "    </tr>\n",
       "  </thead>\n",
       "  <tbody>\n",
       "    <tr>\n",
       "      <th>0</th>\n",
       "      <td>1</td>\n",
       "      <td>블랙 위도우</td>\n",
       "    </tr>\n",
       "    <tr>\n",
       "      <th>1</th>\n",
       "      <td>2</td>\n",
       "      <td>발신제한</td>\n",
       "    </tr>\n",
       "    <tr>\n",
       "      <th>2</th>\n",
       "      <td>3</td>\n",
       "      <td>크루엘라</td>\n",
       "    </tr>\n",
       "    <tr>\n",
       "      <th>3</th>\n",
       "      <td>4</td>\n",
       "      <td>콰이어트 플레이스 2</td>\n",
       "    </tr>\n",
       "    <tr>\n",
       "      <th>4</th>\n",
       "      <td>5</td>\n",
       "      <td>랑종</td>\n",
       "    </tr>\n",
       "    <tr>\n",
       "      <th>5</th>\n",
       "      <td>6</td>\n",
       "      <td>루카</td>\n",
       "    </tr>\n",
       "    <tr>\n",
       "      <th>6</th>\n",
       "      <td>7</td>\n",
       "      <td>킬러의 보디가드 2</td>\n",
       "    </tr>\n",
       "    <tr>\n",
       "      <th>7</th>\n",
       "      <td>8</td>\n",
       "      <td>미드나이트</td>\n",
       "    </tr>\n",
       "    <tr>\n",
       "      <th>8</th>\n",
       "      <td>9</td>\n",
       "      <td>BIFAN2021 판타스틱 단편 걸작선 1</td>\n",
       "    </tr>\n",
       "    <tr>\n",
       "      <th>9</th>\n",
       "      <td>10</td>\n",
       "      <td>괴기맨숀</td>\n",
       "    </tr>\n",
       "    <tr>\n",
       "      <th>10</th>\n",
       "      <td>11</td>\n",
       "      <td>컨저링3: 악마가 시켰다</td>\n",
       "    </tr>\n",
       "    <tr>\n",
       "      <th>11</th>\n",
       "      <td>12</td>\n",
       "      <td>인 더 하이츠</td>\n",
       "    </tr>\n",
       "    <tr>\n",
       "      <th>12</th>\n",
       "      <td>13</td>\n",
       "      <td>빛나는 순간</td>\n",
       "    </tr>\n",
       "    <tr>\n",
       "      <th>13</th>\n",
       "      <td>14</td>\n",
       "      <td>체르노빌 1986</td>\n",
       "    </tr>\n",
       "    <tr>\n",
       "      <th>14</th>\n",
       "      <td>15</td>\n",
       "      <td>이번엔 잘 되겠지</td>\n",
       "    </tr>\n",
       "  </tbody>\n",
       "</table>\n",
       "</div>"
      ],
      "text/plain": [
       "    Index                   Titles\n",
       "0       1                   블랙 위도우\n",
       "1       2                     발신제한\n",
       "2       3                     크루엘라\n",
       "3       4              콰이어트 플레이스 2\n",
       "4       5                       랑종\n",
       "5       6                       루카\n",
       "6       7               킬러의 보디가드 2\n",
       "7       8                    미드나이트\n",
       "8       9  BIFAN2021 판타스틱 단편 걸작선 1\n",
       "9      10                     괴기맨숀\n",
       "10     11            컨저링3: 악마가 시켰다\n",
       "11     12                  인 더 하이츠\n",
       "12     13                   빛나는 순간\n",
       "13     14                체르노빌 1986\n",
       "14     15                이번엔 잘 되겠지"
      ]
     },
     "execution_count": 27,
     "metadata": {},
     "output_type": "execute_result"
    }
   ],
   "source": [
    "# countLists만으로 dataFrame 생성\n",
    "df = pd.DataFrame(data = countLists, columns=['Index'])\n",
    "df['Titles'] = pd.Series(titleLists)\n",
    "df"
   ]
  },
  {
   "cell_type": "code",
   "execution_count": 28,
   "id": "636ed6f9",
   "metadata": {},
   "outputs": [],
   "source": [
    "#csv로 저장\n",
    "df.to_csv(\"./Data/DataFrame.csv\", sep=\",\", encoding='utf-8', index=False)"
   ]
  }
 ],
 "metadata": {
  "kernelspec": {
   "display_name": "Python 3",
   "language": "python",
   "name": "python3"
  },
  "language_info": {
   "codemirror_mode": {
    "name": "ipython",
    "version": 3
   },
   "file_extension": ".py",
   "mimetype": "text/x-python",
   "name": "python",
   "nbconvert_exporter": "python",
   "pygments_lexer": "ipython3",
   "version": "3.8.8"
  }
 },
 "nbformat": 4,
 "nbformat_minor": 5
}
