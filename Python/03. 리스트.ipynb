{
 "cells": [
  {
   "cell_type": "markdown",
   "id": "1a0521d3",
   "metadata": {},
   "source": [
    "# 리스트\n",
    "- 숫자나 문자들의 모음을 하나의 자료형으로 표현하기 위해 사용\n",
    "- format : listName = [e1, e2, ...]"
   ]
  },
  {
   "cell_type": "markdown",
   "id": "bc65e63b",
   "metadata": {},
   "source": [
    "# 리스트 자료형 선언"
   ]
  },
  {
   "cell_type": "code",
   "execution_count": 1,
   "id": "7e85d38d",
   "metadata": {},
   "outputs": [],
   "source": [
    "var01 = []\n",
    "var02 = [1,2,3]\n",
    "var03 = ['I', 'have', \"a\", 'dream']\n",
    "var04 = [1, 2, 'dream', 'True']\n",
    "var05 = [1, 2, ['Dream', 'true']]"
   ]
  },
  {
   "cell_type": "markdown",
   "id": "4384cacd",
   "metadata": {},
   "source": [
    "# 리스트의 indexing과 slicing"
   ]
  },
  {
   "cell_type": "code",
   "execution_count": 2,
   "id": "92e0ff39",
   "metadata": {},
   "outputs": [
    {
     "name": "stdout",
     "output_type": "stream",
     "text": [
      "[]\n",
      "[1, 2, 3]\n",
      "['I', 'have', 'a', 'dream']\n",
      "[1, 2, 'dream', 'True']\n",
      "[1, 2, ['Dream', 'true']]\n",
      "['Dream', 'true']\n",
      "Dream\n"
     ]
    }
   ],
   "source": [
    "print(var01)\n",
    "print(var02)\n",
    "print(var03)\n",
    "print(var04)\n",
    "print(var05)\n",
    "\n",
    "print(var05[2])\n",
    "print(var05[2][0])"
   ]
  },
  {
   "cell_type": "code",
   "execution_count": 3,
   "id": "33da5654",
   "metadata": {},
   "outputs": [
    {
     "data": {
      "text/plain": [
       "3"
      ]
     },
     "execution_count": 3,
     "metadata": {},
     "output_type": "execute_result"
    }
   ],
   "source": [
    "# 리스트의 계산\n",
    "var02[0] + var02[1]"
   ]
  },
  {
   "cell_type": "code",
   "execution_count": 4,
   "id": "ac9ec7f9",
   "metadata": {},
   "outputs": [],
   "source": [
    "#3중 리스트에서 indexing\n",
    "var = [1, 2, ['a', 'b', ['Dream', 'True']]]"
   ]
  },
  {
   "cell_type": "code",
   "execution_count": null,
   "id": "6f525226",
   "metadata": {},
   "outputs": [],
   "source": []
  }
 ],
 "metadata": {
  "kernelspec": {
   "display_name": "Python 3",
   "language": "python",
   "name": "python3"
  },
  "language_info": {
   "codemirror_mode": {
    "name": "ipython",
    "version": 3
   },
   "file_extension": ".py",
   "mimetype": "text/x-python",
   "name": "python",
   "nbconvert_exporter": "python",
   "pygments_lexer": "ipython3",
   "version": "3.8.8"
  }
 },
 "nbformat": 4,
 "nbformat_minor": 5
}
